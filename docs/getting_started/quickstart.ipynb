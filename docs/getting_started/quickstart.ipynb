{
 "cells": [
  {
   "cell_type": "markdown",
   "metadata": {},
   "source": [
    "# Quickstart Sinabs\n",
    "If you're familiar with how SNNs work, you might find this quick overview about *Sinabs* useful.\n",
    "\n",
    "## Sinabs is based on PyTorch\n",
    "All of Sinabs' layers inherit from `torch.nn.Module`. Thus you will be able to access your parameters, wrap layers in a `nn.Sequential` module and all the other things that you would do with a normal PyTorch layer. \n",
    "\n",
    "## How to define your network\n",
    "We want to re-use as much PyTorch functionality as possible. We use Linear, Conv2d and AvgPool layers to define weight matrices, whereas *Sinabs* layers add state as well as the non-linear activation to each of those weight layers. This is a definition of a simple SNN which takes as an input a tensor of (Batch, Time, Channels):\n"
   ]
  },
  {
   "cell_type": "code",
   "execution_count": null,
   "metadata": {},
   "outputs": [],
   "source": [
    "import torch\n",
    "import torch.nn as nn\n",
    "\n",
    "import sinabs.activation\n",
    "import sinabs.layers as sl\n",
    "\n",
    "model = nn.Sequential(\n",
    "    nn.Linear(16, 64),\n",
    "    sl.LIF(tau_mem=10.0, surrogate_grad_fn=sinabs.activation.SingleExponential()),\n",
    "    nn.Linear(64, 4),\n",
    "    sl.LIF(tau_mem=10.0, surrogate_grad_fn=sinabs.activation.SingleExponential()),\n",
    ")"
   ]
  },
  {
   "cell_type": "markdown",
   "metadata": {
    "pycharm": {
     "name": "#%% md\n"
    }
   },
   "source": [
    "## Inference with SNNs\n",
    "For simple inference using SNNs, you just use the model like any other torch model"
   ]
  },
  {
   "cell_type": "code",
   "execution_count": null,
   "metadata": {
    "pycharm": {
     "name": "#%%\n"
    }
   },
   "outputs": [],
   "source": [
    "# Define an input (Batch, Time, Channels)\n",
    "input = (torch.rand(1, 100, 16) > 0.2).float()\n",
    "\n",
    "# Compute output with the model\n",
    "with torch.no_grad():\n",
    "    output = model(input)\n",
    "\n",
    "print(output.shape)"
   ]
  },
  {
   "cell_type": "markdown",
   "metadata": {
    "pycharm": {
     "name": "#%% md\n"
    }
   },
   "source": [
    "You can see above that the `output` of the SNN `model` defined above has the shape `(batch, time, neurons)`, where `neurons` is the number of neurons in the final layer of the model.\n",
    "\n",
    "> Note that the network state is retained after any forward pass/inference. If you require resetting of the states/gradient, you can do so using the corresponding methods `layer.reset_states()` or `layer.zero_grad()`."
   ]
  },
  {
   "cell_type": "markdown",
   "metadata": {},
   "source": [
    "## Training with BPTT\n",
    "\n",
    "BPTT (Back-Propagation-Through-Time) refers to training a model with data that spans several time steps. Crucially, to train models on such data, the model needs to learn the temporal dependence in the data and therefore, the computed gradients need to be propagated back in time in addition to the propagation along its layers.\n",
    "\n",
    "Sinabs enables you to train SNNs using BPTT to take full advantage of the temporal computation and memory afforded by spiking neurons. You see below a small example of how you can train your Sinabs models using BPTT.\n",
    "\n",
    "We first start with a couple of helper functions that loop over all the layers in our model and reset their states and gradients. You will see how they come handy in the next code block."
   ]
  },
  {
   "cell_type": "code",
   "execution_count": null,
   "metadata": {
    "pycharm": {
     "name": "#%%\n"
    }
   },
   "outputs": [],
   "source": [
    "# Some helper functions to reset our model during the training loops\n",
    "def reset_model_states(seq_model: nn.Sequential, randomize: bool = False):\n",
    "    \"\"\"\n",
    "    Method to reset the internal states of a model\n",
    "    \"\"\"\n",
    "    for lyr in seq_model:\n",
    "        if isinstance(lyr, sl.LIF):\n",
    "            lyr.reset_states(randomize=randomize)\n",
    "    return\n",
    "\n",
    "\n",
    "def zero_grad_states(seq_model: nn.Sequential):\n",
    "    \"\"\"\n",
    "    Method to reset the gradients of the internal states of a model\n",
    "    \"\"\"\n",
    "    for lyr in seq_model:\n",
    "        if isinstance(lyr, sl.LIF):\n",
    "            lyr.zero_grad()\n",
    "    return"
   ]
  },
  {
   "cell_type": "markdown",
   "metadata": {
    "pycharm": {
     "name": "#%% md\n"
    }
   },
   "source": [
    "For the purpose of this demonstration, we define a very simple toy task:\n",
    "\n",
    "> Train the model to produce 10 spikes in response to an input spike pattern from 16 spiking neurons.\n",
    "\n",
    "For simplicity, we generate a random spike train and use that as our input spike pattern.\n",
    "\n",
    "Like with any standard training loop in pytorch, we start by defining an optimizer and loop over several training epochs.\n",
    "\n",
    "In each training loop, the following steps are carried out.\n",
    "\n",
    "1. Reset the parameter gradients.\n",
    "2. Reset the state/vmem gradients.\n",
    "3. Reset the model state/vmem to an initial condition.\n",
    "4. Perform a forward pass.\n",
    "5. Calculate the loss.\n",
    "6. Backpropagate gradients based on the computed loss.\n",
    "7. Update parameters.\n",
    "\n",
    "Note the additional steps 2 and 3. These are additional required inorder to account for the stateful nature of spiking layers in our model."
   ]
  },
  {
   "cell_type": "code",
   "execution_count": null,
   "metadata": {
    "pycharm": {
     "name": "#%%\n"
    }
   },
   "outputs": [],
   "source": [
    "# Define an input (Batch, Time, Channels)\n",
    "input_data = (torch.rand(1, 100, 16) > 0.2).float()\n",
    "\n",
    "# Training routine\n",
    "optim = torch.optim.RMSprop(model.parameters(), lr=1e-3)\n",
    "num_epochs = 100\n",
    "target_num_spikes = 10\n",
    "\n",
    "for epoch in range(num_epochs):\n",
    "    # Reset the gradients of the parameters\n",
    "    optim.zero_grad()\n",
    "\n",
    "    # We will also need to reset the gradients of neuron states.\n",
    "    zero_grad_states(model)\n",
    "    # Alternatively you could also reset the states themselves.\n",
    "    reset_model_states(model, randomize=False)\n",
    "\n",
    "    # Forward pass\n",
    "    out = model(input_data)\n",
    "    print(f\"Epoch {epoch}: Output spikes: {out.sum().item()}\")\n",
    "\n",
    "    # Compute loss\n",
    "    loss = (out.sum() - target_num_spikes) ** 2\n",
    "\n",
    "    # Back-propagate the gradients.\n",
    "    loss.backward()\n",
    "\n",
    "    # Update parameters\n",
    "    optim.step()\n",
    "\n",
    "    # Early stopage\n",
    "    if not loss:\n",
    "        break"
   ]
  },
  {
   "cell_type": "code",
   "execution_count": null,
   "metadata": {
    "pycharm": {
     "name": "#%%\n"
    }
   },
   "outputs": [],
   "source": [
    "out.sum(), out.shape"
   ]
  },
  {
   "cell_type": "markdown",
   "metadata": {
    "pycharm": {
     "name": "#%% md\n"
    }
   },
   "source": [
    "We see above that the model trains to produce 10 spikes as intended.\n",
    "\n",
    "That is it! Now you know everything you need to know about training models with Sinabs!"
   ]
  },
  {
   "cell_type": "markdown",
   "metadata": {},
   "source": [
    "## Working with Convolutional networks\n",
    "\n",
    "When working with convolutional connectivity, a `nn.Conv2d` layer only takes as input a tensor of (Batch, Channels, Height, Width). If we feed a tensor that has an additional time dimension (Batch, Time, Channels, Height, Width) to such a layer, we will receive an error. In order for us to apply 2D convolutions across time, we have to make use of a small trick where we flatten batch and time dimension before feeding it to the Conv layer. If the input is flattened, the `Squeeze` versions of spiking `Sinabs` layers understand and take care of expanding the time dimension appropriately, without any major changes to your model definition."
   ]
  },
  {
   "cell_type": "code",
   "execution_count": null,
   "metadata": {
    "pycharm": {
     "name": "#%%\n"
    }
   },
   "outputs": [],
   "source": [
    "batch_size = 8\n",
    "time_steps = 100\n",
    "\n",
    "conv_model = nn.Sequential(\n",
    "    nn.Conv2d(2, 16, kernel_size=3),\n",
    "    sl.LIFSqueeze(tau_mem=20.0, batch_size=batch_size),\n",
    "    nn.Conv2d(16, 32, kernel_size=3),\n",
    "    sl.LIFSqueeze(tau_mem=20.0, batch_size=batch_size),\n",
    "    nn.Flatten(),\n",
    "    nn.Linear(512, 4),\n",
    ")\n",
    "\n",
    "# (Batch, Time, Channels, Height, Width)\n",
    "data = torch.rand(batch_size, time_steps, 2, 8, 8)\n",
    "\n",
    "# Data reshaped to fit the flattened model definition\n",
    "input = data.view(batch_size * time_steps, 2, 8, 8)\n",
    "\n",
    "print(input.shape)"
   ]
  },
  {
   "cell_type": "markdown",
   "metadata": {
    "pycharm": {
     "name": "#%% md\n"
    }
   },
   "source": [
    "The rest of the forward pass or training loops remain the same as described in the above sections."
   ]
  },
  {
   "cell_type": "code",
   "execution_count": null,
   "metadata": {
    "pycharm": {
     "name": "#%%\n"
    }
   },
   "outputs": [],
   "source": [
    "with torch.no_grad():\n",
    "    output = conv_model(input)"
   ]
  },
  {
   "cell_type": "markdown",
   "metadata": {},
   "source": [
    "This output has to then be reshaped to split and restore batch and time dimensions."
   ]
  },
  {
   "cell_type": "code",
   "execution_count": null,
   "metadata": {
    "pycharm": {
     "name": "#%%\n"
    }
   },
   "outputs": [],
   "source": [
    "output_spike_raster = output.view(batch_size, time_steps, 4)\n",
    "print(output_spike_raster.shape)"
   ]
  },
  {
   "cell_type": "code",
   "execution_count": null,
   "metadata": {
    "pycharm": {
     "name": "#%%\n"
    }
   },
   "outputs": [],
   "source": []
  }
 ],
 "metadata": {
  "interpreter": {
   "hash": "5931241afb711235dda64ee4fe99a453ecee36036d1d9ee62f788faeb386adff"
  },
  "kernelspec": {
   "display_name": "Python 3.7.11 ('base')",
   "language": "python",
   "name": "python3"
  },
  "language_info": {
   "codemirror_mode": {
    "name": "ipython",
    "version": 3
   },
   "file_extension": ".py",
   "mimetype": "text/x-python",
   "name": "python",
   "nbconvert_exporter": "python",
   "pygments_lexer": "ipython3",
   "version": "3.7.11"
  }
 },
 "nbformat": 4,
 "nbformat_minor": 2
}
