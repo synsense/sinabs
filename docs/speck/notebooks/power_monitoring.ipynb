{
 "cells": [
  {
   "cell_type": "markdown",
   "metadata": {
    "collapsed": true
   },
   "source": [
    "# Power Monitoring\n",
    "\n",
    "This notebook demonstrates how to monitor the power consumption of the speck2e devkit."
   ]
  },
  {
   "cell_type": "code",
   "execution_count": 1,
   "metadata": {},
   "outputs": [
    {
     "name": "stdout",
     "output_type": "stream",
     "text": [
      "Requirement already satisfied: matplotlib in /home/allan/PycharmProjects/sinabs-dynapcnn/venv/lib/python3.6/site-packages (3.3.4)\r\n",
      "Requirement already satisfied: python-dateutil>=2.1 in /home/allan/PycharmProjects/sinabs-dynapcnn/venv/lib/python3.6/site-packages (from matplotlib) (2.8.2)\r\n",
      "Requirement already satisfied: pillow>=6.2.0 in /home/allan/PycharmProjects/sinabs-dynapcnn/venv/lib/python3.6/site-packages (from matplotlib) (8.4.0)\r\n",
      "Requirement already satisfied: pyparsing!=2.0.4,!=2.1.2,!=2.1.6,>=2.0.3 in /home/allan/PycharmProjects/sinabs-dynapcnn/venv/lib/python3.6/site-packages (from matplotlib) (3.0.9)\r\n",
      "Requirement already satisfied: numpy>=1.15 in /home/allan/PycharmProjects/sinabs-dynapcnn/venv/lib/python3.6/site-packages (from matplotlib) (1.19.5)\r\n",
      "Requirement already satisfied: cycler>=0.10 in /home/allan/PycharmProjects/sinabs-dynapcnn/venv/lib/python3.6/site-packages (from matplotlib) (0.11.0)\r\n",
      "Requirement already satisfied: kiwisolver>=1.0.1 in /home/allan/PycharmProjects/sinabs-dynapcnn/venv/lib/python3.6/site-packages (from matplotlib) (1.3.1)\r\n",
      "Requirement already satisfied: six>=1.5 in /home/allan/PycharmProjects/sinabs-dynapcnn/venv/lib/python3.6/site-packages (from python-dateutil>=2.1->matplotlib) (1.16.0)\r\n"
     ]
    }
   ],
   "source": [
    "! pip install matplotlib"
   ]
  },
  {
   "cell_type": "markdown",
   "metadata": {},
   "source": []
  },
  {
   "cell_type": "code",
   "execution_count": 2,
   "metadata": {},
   "outputs": [],
   "source": [
    "import samna\n",
    "import samnagui\n",
    "import time\n",
    "import torch\n",
    "import matplotlib.pyplot as plt\n",
    "import matplotlib.font_manager as font_manager\n",
    "\n",
    "from torch import nn\n",
    "from multiprocessing import Process\n",
    "from sinabs.from_torch import from_model\n",
    "from sinabs.backend.dynapcnn import DynapcnnNetwork"
   ]
  },
  {
   "cell_type": "code",
   "execution_count": 3,
   "metadata": {},
   "outputs": [],
   "source": [
    "assert (\n",
    "    samna.__version__ >= \"0.21.8\"\n",
    "), f\"samna version {samna.__version__} is too low for this experiment\""
   ]
  },
  {
   "cell_type": "markdown",
   "metadata": {},
   "source": [
    "## 1. Power consumption of the devkit\n",
    "\n",
    "The power consumption mainly consist of the following 5 parts:\n",
    "\n",
    "1. **IO**: IO power consumption.\n",
    "\n",
    "2. **Ram**: Power consumption of read and write of ram.\n",
    "\n",
    "3. **Logic**: Logic operation power consumption.\n",
    "\n",
    "4. **VDDD**: DVS digital power consumption.\n",
    "\n",
    "5. **VDDA**: DVS analog power consumption.\n",
    "\n",
    "\n",
    "On the devkit there are 5 channels of **power tracks**:\n",
    "\n",
    "- channel 0: VDD_IO\n",
    "- channel 1: VDD_RAM\n",
    "- channel 2: VDD_LOGIC\n",
    "- channel 3: VDD_PIXEL_DIGITAL\n",
    "- channel 4: VDD_PIXEL_ANALOG\n",
    "\n",
    "we can monitor each type of the power consumption based on each relevant power track.\n",
    "\n",
    "\n",
    "Samna provides a [`PowerMonitor`](https://synsense-sys-int.gitlab.io/samna/reference/boards/common/power/index.html#samna.boards.common.power.PowerMonitor) for users to read the power from the power tracks. By calling the `start_auto_power_measurement` method of the `PowerMonitor` instance, we can start read the power consumption statistics. \n",
    "\n",
    "\n",
    "To measure the power consumption, we need add a `samna.BasicSinkNode_unifirm_modules_events_measurement` node into the samna graph, combined with the `PowerMonitor` we can read the power statistics from this node.\n",
    "\n"
   ]
  },
  {
   "cell_type": "markdown",
   "metadata": {},
   "source": [
    "## 2. Monitor the idle power\n",
    "\n",
    "Here we demonstrate the way of monitoring the idle power of the devkit."
   ]
  },
  {
   "cell_type": "code",
   "execution_count": 4,
   "metadata": {},
   "outputs": [
    {
     "data": {
      "text/plain": [
       "['Speck2eDevKit']"
      ]
     },
     "execution_count": 4,
     "metadata": {},
     "output_type": "execute_result"
    }
   ],
   "source": [
    "# get device name\n",
    "devices = samna.device.get_all_devices()\n",
    "device_names = [each.device_type_name for each in devices]\n",
    "device_names"
   ]
  },
  {
   "cell_type": "code",
   "execution_count": 5,
   "metadata": {},
   "outputs": [],
   "source": [
    "# open devkit\n",
    "devkit = samna.device.open_device(device_names[0])\n",
    "\n",
    "# get the handle of the stop-watch of the devkit\n",
    "stop_watch = devkit.get_stop_watch()\n",
    "\n",
    "# get the handle of the power monitor of the devkit\n",
    "power_monitor = devkit.get_power_monitor()\n",
    "\n",
    "# create samna node for power reading\n",
    "power_source_node = power_monitor.get_source_node()\n",
    "power_buffer_node = samna.BasicSinkNode_unifirm_modules_events_measurement()"
   ]
  },
  {
   "attachments": {},
   "cell_type": "markdown",
   "metadata": {},
   "source": [
    "build samna graph for the power monitoring\n",
    "\n",
    "![idle_power_graph](../../_static/power_monitoring/idle_power_samna_graph.png)"
   ]
  },
  {
   "cell_type": "code",
   "execution_count": 6,
   "metadata": {},
   "outputs": [],
   "source": [
    "# init graph\n",
    "samna_graph = samna.graph.EventFilterGraph()\n",
    "\n",
    "# build graph\n",
    "samna_graph.sequential([power_source_node, power_buffer_node])\n",
    "time.sleep(0.5)"
   ]
  },
  {
   "cell_type": "markdown",
   "metadata": {},
   "source": [
    "then we can start mearsuring the idle power of the devkit"
   ]
  },
  {
   "cell_type": "code",
   "execution_count": 7,
   "metadata": {},
   "outputs": [],
   "source": [
    "measure_time = 5.0  # seconds\n",
    "sample_rate = 100.0  # Hz\n",
    "\n",
    "# start samna graph\n",
    "samna_graph.start()\n",
    "\n",
    "# start the stop-watch of devkit, then each output data has a proper timestamp\n",
    "stop_watch.set_enable_value(True)\n",
    "\n",
    "# clear buffer\n",
    "power_buffer_node.get_events()\n",
    "\n",
    "# start monitor, we need pass a sample rate argument to the power monitor\n",
    "power_monitor.start_auto_power_measurement(sample_rate)\n",
    "\n",
    "# sleep the procees to wait for the measurement time up\n",
    "time.sleep(measure_time)\n",
    "\n",
    "# stop monitor\n",
    "power_monitor.stop_auto_power_measurement()\n",
    "\n",
    "# stop samna graph\n",
    "samna_graph.stop()\n",
    "\n",
    "# get power-measurement data\n",
    "power_events = power_buffer_node.get_events()"
   ]
  },
  {
   "cell_type": "code",
   "execution_count": 8,
   "metadata": {},
   "outputs": [
    {
     "name": "stdout",
     "output_type": "stream",
     "text": [
      "estimated number of collect data: 2500.0\n",
      "number of collected data: 2499\n"
     ]
    }
   ],
   "source": [
    "# time * sample rate * number of power tracks\n",
    "estimated_number_of_data = measure_time * sample_rate * 5\n",
    "print(f\"estimated number of collect data: {estimated_number_of_data}\")\n",
    "\n",
    "print(f\"number of collected data: {len(power_events)}\")"
   ]
  },
  {
   "cell_type": "markdown",
   "metadata": {},
   "source": [
    "parse the collected data"
   ]
  },
  {
   "cell_type": "code",
   "execution_count": 9,
   "metadata": {},
   "outputs": [
    {
     "name": "stdout",
     "output_type": "stream",
     "text": [
      "track0: 62.579956054687536uW, 25.031982421875014uA\n",
      "track1: 70.89843749999974uW, 59.08203124999979uA\n",
      "track2: 254.79701450892875uW, 212.3308454241073uA\n",
      "track3: 64.85595703124955uW, 54.04663085937462uA\n",
      "track4: 740.2514291976793uW, 616.8761909980661uA\n"
     ]
    }
   ],
   "source": [
    "num_power_tracks = 5\n",
    "\n",
    "# init dict for storing data of each power track\n",
    "power_each_track = dict()\n",
    "event_count_each_track = dict()\n",
    "\n",
    "# check whether timestamp is correct\n",
    "timestamp_all_zero = True\n",
    "\n",
    "# loop through all collected power events and get data\n",
    "for evt in power_events:\n",
    "    if evt.timestamp != 0:\n",
    "        timestamp_all_zero = False\n",
    "\n",
    "    p_track_id = evt.channel\n",
    "    tmp_power = power_each_track.get(p_track_id, 0) + evt.value\n",
    "    tmp_count = event_count_each_track.get(p_track_id, 0) + 1\n",
    "\n",
    "    power_each_track.update({p_track_id: tmp_power})\n",
    "    event_count_each_track.update({p_track_id: tmp_count})\n",
    "\n",
    "# average power and current of each track\n",
    "for p_track_id in range(num_power_tracks):\n",
    "    # average power in microwatt\n",
    "    avg_power = power_each_track[p_track_id] / event_count_each_track[p_track_id] * 1e6\n",
    "    # calculate current\n",
    "    if p_track_id == 0:\n",
    "        current = avg_power / 2.5\n",
    "    else:\n",
    "        current = avg_power / 1.2\n",
    "\n",
    "    print(f\"track{p_track_id}: {avg_power}uW, {current}uA\")"
   ]
  },
  {
   "cell_type": "markdown",
   "metadata": {},
   "source": [
    "plot the power data"
   ]
  },
  {
   "cell_type": "code",
   "execution_count": 10,
   "metadata": {},
   "outputs": [
    {
     "data": {
      "image/png": "[encoded data removed]",
      "text/plain": [
       "<Figure size 432x288 with 1 Axes>"
      ]
     },
     "metadata": {},
     "output_type": "display_data"
    }
   ],
   "source": [
    "if timestamp_all_zero:\n",
    "    print(\n",
    "        \"timestamps are all zeros, can't plot power vs. time, you might need to update the firmware!\"\n",
    "    )\n",
    "\n",
    "else:\n",
    "    # plot the output neuron index vs. time\n",
    "    plt.style.use(\"ggplot\")\n",
    "    fig, ax = plt.subplots()\n",
    "    p_track_name = [\"io\", \"ram\", \"logic\", \"pixel digital\", \"pixel analog\"]\n",
    "    for p_track_id in range(num_power_tracks):\n",
    "        x = [each.timestamp for each in power_events if each.channel == p_track_id]\n",
    "        y = [each.value * 1e6 for each in power_events if each.channel == p_track_id]\n",
    "        plt.plot(x, y, label=p_track_name[p_track_id], alpha=0.8)\n",
    "\n",
    "    ax.set_xlabel(\"time(us)\")\n",
    "    ax.set_ylabel(\"power(uW)\")\n",
    "    ax.set_title(\"Idle Power\")\n",
    "    ax.legend(loc=\"upper right\", fontsize=10)"
   ]
  },
  {
   "cell_type": "code",
   "execution_count": 11,
   "metadata": {},
   "outputs": [],
   "source": [
    "# close devkit after experiment finished\n",
    "samna.device.close_device(devkit)"
   ]
  },
  {
   "attachments": {},
   "cell_type": "markdown",
   "metadata": {},
   "source": [
    "## 3. Monitor the dynamic power\n",
    "\n",
    "In this section we introduce the way to monitor the dynamic power of the devkit i.e. the power after we deploy an SNN on it.\n",
    "\n",
    "Also, we introduce a GUI module of samna which helps to monitor the real-time power plot.\n",
    "\n",
    "\n",
    "![real_time_power_plot](../../_static/power_monitoring/power_plot.png)"
   ]
  },
  {
   "cell_type": "markdown",
   "metadata": {},
   "source": [
    "### 3.1 Create a simple SNN"
   ]
  },
  {
   "cell_type": "code",
   "execution_count": 12,
   "metadata": {},
   "outputs": [],
   "source": [
    "# create a one layer CNN\n",
    "input_shape = (1, 128, 128)\n",
    "\n",
    "cnn = nn.Sequential(\n",
    "    nn.Conv2d(\n",
    "        in_channels=1,\n",
    "        out_channels=1,\n",
    "        kernel_size=(1, 1),\n",
    "        stride=(2, 2),\n",
    "        padding=(0, 0),\n",
    "        bias=False,\n",
    "    ),\n",
    "    nn.ReLU(),\n",
    ")\n",
    "\n",
    "# assign a handcraft weight to CNN\n",
    "cnn[0].weight.data = torch.ones_like(cnn[0].weight.data, dtype=torch.float32) * 0.05"
   ]
  },
  {
   "cell_type": "code",
   "execution_count": 13,
   "metadata": {},
   "outputs": [],
   "source": [
    "# cnn to snn\n",
    "snn = from_model(cnn, input_shape=input_shape, batch_size=1).spiking_model\n",
    "\n",
    "# snn to DynapcnnNetwork\n",
    "dynapcnn_net = DynapcnnNetwork(snn=snn, input_shape=input_shape, dvs_input=True)"
   ]
  },
  {
   "cell_type": "markdown",
   "metadata": {},
   "source": [
    "### 3.2 Create a devkit config based on the SNN"
   ]
  },
  {
   "cell_type": "code",
   "execution_count": 14,
   "metadata": {},
   "outputs": [
    {
     "name": "stdout",
     "output_type": "stream",
     "text": [
      "Network is valid\n"
     ]
    }
   ],
   "source": [
    "dynapcnn_device_str = \"speck2edevkit:0\"\n",
    "devkit_cfg = dynapcnn_net.make_config(\n",
    "    device=dynapcnn_device_str, monitor_layers=[\"dvs\"]\n",
    ")"
   ]
  },
  {
   "attachments": {},
   "cell_type": "markdown",
   "metadata": {},
   "source": [
    "### 3.3 Construct a samna graph for power monitoring & visualization\n",
    "\n",
    "![dynamic_power_graph](../../_static/power_monitoring/dynamic_power_samna_graph.png)"
   ]
  },
  {
   "cell_type": "code",
   "execution_count": 15,
   "metadata": {},
   "outputs": [
    {
     "data": {
      "text/plain": [
       "True"
      ]
     },
     "execution_count": 15,
     "metadata": {},
     "output_type": "execute_result"
    }
   ],
   "source": [
    "# get device name\n",
    "devices = samna.device.get_all_devices()\n",
    "device_names = [each.device_type_name for each in devices]\n",
    "device_names\n",
    "\n",
    "# open devkit\n",
    "devkit = samna.device.open_device(device_names[0])\n",
    "\n",
    "# get the handle of the stop-watch of the devkit\n",
    "stop_watch = devkit.get_stop_watch()\n",
    "\n",
    "# reset the stop-watch of devkit\n",
    "# stop_watch = devkit.get_stop_watch()\n",
    "# stop_watch.set_enable_value(True)\n",
    "# stop_watch.reset()\n",
    "# time.sleep(0.01)\n",
    "\n",
    "# get the handle of the power monitor of the devkit\n",
    "power_monitor = devkit.get_power_monitor()\n",
    "\n",
    "# create samna node for power reading\n",
    "power_source_node = power_monitor.get_source_node()\n",
    "power_buffer_node = samna.BasicSinkNode_unifirm_modules_events_measurement()\n",
    "\n",
    "# init samna graph\n",
    "samna_graph = samna.graph.EventFilterGraph()\n",
    "\n",
    "\n",
    "\"\"\"\n",
    "=====  construct branches in the graph to define how data flows  =====\n",
    "\"\"\"\n",
    "# branch #1: DVS data visualization on GUI\n",
    "_, _, streamer = samna_graph.sequential(\n",
    "    [devkit.get_model_source_node(), \"Speck2eDvsToVizConverter\", \"VizEventStreamer\"]\n",
    ")\n",
    "\n",
    "# branch #2: Collect power data\n",
    "samna_graph.sequential([power_source_node, power_buffer_node])\n",
    "\n",
    "# branch #3: Real time power data visualization on GUI\n",
    "samna_graph.sequential([power_source_node, \"MeasurementToVizConverter\", streamer])\n",
    "\n",
    "# define tcp port for data visualization\n",
    "streamer_endpoint = \"tcp://0.0.0.0:40000\"\n",
    "streamer.set_streamer_endpoint(streamer_endpoint)\n",
    "\n",
    "# start the samna graph\n",
    "samna_graph.start()"
   ]
  },
  {
   "cell_type": "markdown",
   "metadata": {},
   "source": [
    "### 3.4 Setup the GUI visualizer of samna"
   ]
  },
  {
   "cell_type": "code",
   "execution_count": 16,
   "metadata": {},
   "outputs": [
    {
     "name": "stdout",
     "output_type": "stream",
     "text": [
      "sender_endpoint: tcp://0.0.0.0:59073\n",
      "receiver_endpoint: tcp://0.0.0.0:60313\n"
     ]
    }
   ],
   "source": [
    "# init samna node for tcp communication\n",
    "samna_node = samna.init_samna()\n",
    "sender_endpoint = samna_node.get_sender_endpoint()\n",
    "receiver_endpoint = samna_node.get_receiver_endpoint()\n",
    "# wait tcp connection build up, this is necessary to open remote node.\n",
    "time.sleep(1.0)"
   ]
  },
  {
   "cell_type": "code",
   "execution_count": 17,
   "metadata": {},
   "outputs": [],
   "source": [
    "# define a function that start the gui visualizer then we run it in the sub-process\n",
    "def run_visualizer_process(receiver_endpoint, sender_endpoint, visualizer_id):\n",
    "    samnagui.runVisualizer(0.6, 0.6, receiver_endpoint, sender_endpoint, visualizer_id)\n",
    "\n",
    "    return"
   ]
  },
  {
   "cell_type": "code",
   "execution_count": 18,
   "metadata": {},
   "outputs": [
    {
     "name": "stdout",
     "output_type": "stream",
     "text": [
      "Successfully start the GUI process! You should see a window pop up\n"
     ]
    }
   ],
   "source": [
    "# init sub-process for GUI\n",
    "visualizer_id = 3\n",
    "gui_process = Process(\n",
    "    target=run_visualizer_process,\n",
    "    args=(receiver_endpoint, sender_endpoint, visualizer_id),\n",
    ")\n",
    "\n",
    "# start the GUI process\n",
    "gui_process.start()\n",
    "\n",
    "# wait for open visualizer and connect to it.\n",
    "timeout = 10\n",
    "begin = time.time()\n",
    "name = \"visualizer\" + str(visualizer_id)\n",
    "while time.time() - begin < timeout:\n",
    "    try:\n",
    "        time.sleep(0.05)\n",
    "        samna.open_remote_node(visualizer_id, name)\n",
    "\n",
    "    except:\n",
    "        continue\n",
    "\n",
    "    else:\n",
    "        print(\"Successfully start the GUI process! You should see a window pop up\")\n",
    "        break"
   ]
  },
  {
   "cell_type": "code",
   "execution_count": 19,
   "metadata": {},
   "outputs": [
    {
     "name": "stdout",
     "output_type": "stream",
     "text": [
      "Now you should see a change on the GUI window!\n"
     ]
    }
   ],
   "source": [
    "# setup visualizer\n",
    "visualizer = getattr(samna, name)\n",
    "\n",
    "\n",
    "# set visualizer's receiver endpoint to streamer's sender endpoint\n",
    "visualizer.receiver.set_receiver_endpoint(streamer_endpoint)\n",
    "# connect the receiver output to splitter inside the visualizer\n",
    "visualizer.receiver.add_destination(visualizer.splitter.get_input_channel())\n",
    "\n",
    "# add DVS plots to gui\n",
    "activity_plot_id = visualizer.plots.add_activity_plot(128, 128, \"DVS Layer\")\n",
    "plot = visualizer.plot_0\n",
    "plot.set_layout(0, 0, 0.5, 0.89)\n",
    "visualizer.splitter.add_destination(\n",
    "    \"dvs_event\", visualizer.plots.get_plot_input(activity_plot_id)\n",
    ")\n",
    "\n",
    "# add real time power plots to gui\n",
    "power_plot_id = visualizer.plots.add_power_measurement_plot(\n",
    "    \"power consumption\", 5, [\"io\", \"ram\", \"logic\", \"vddd\", \"vdda\"]\n",
    ")\n",
    "plot_name = \"plot_\" + str(power_plot_id)\n",
    "plot = getattr(visualizer, plot_name)\n",
    "plot.set_layout(0, 0.75, 1.0, 1.0)\n",
    "plot.set_show_x_span(10)\n",
    "plot.set_label_interval(2)\n",
    "plot.set_max_y_rate(1.5)\n",
    "plot.set_show_point_circle(False)\n",
    "plot.set_default_y_max(1)\n",
    "plot.set_y_label_name(\"power (mW)\")  # set the label of y axis\n",
    "visualizer.splitter.add_destination(\n",
    "    \"measurement\", visualizer.plots.get_plot_input(power_plot_id)\n",
    ")\n",
    "\n",
    "visualizer.plots.report()\n",
    "\n",
    "print(\"Now you should see a change on the GUI window!\")"
   ]
  },
  {
   "cell_type": "markdown",
   "metadata": {},
   "source": [
    "### 3.5 Apply devkit config and launch the devit"
   ]
  },
  {
   "cell_type": "code",
   "execution_count": 20,
   "metadata": {},
   "outputs": [
    {
     "name": "stdout",
     "output_type": "stream",
     "text": [
      "Now you should see the input from the dvs sensor on the GUI window!\n"
     ]
    }
   ],
   "source": [
    "# apply devkit config\n",
    "devkit.get_model().apply_configuration(devkit_cfg)\n",
    "time.sleep(0.1)\n",
    "\n",
    "print(\"Now you should see the input from the dvs sensor on the GUI window!\")"
   ]
  },
  {
   "cell_type": "markdown",
   "metadata": {},
   "source": [
    "### 3.6 Start to monitor dynamic power"
   ]
  },
  {
   "cell_type": "code",
   "execution_count": 21,
   "metadata": {},
   "outputs": [
    {
     "name": "stdout",
     "output_type": "stream",
     "text": [
      "Now you should see the real-time power plot shows on the GUI window!\n"
     ]
    }
   ],
   "source": [
    "sample_rate = 100\n",
    "power_monitor.start_auto_power_measurement(sample_rate)\n",
    "\n",
    "print(\"Now you should see the real-time power plot shows on the GUI window!\")"
   ]
  },
  {
   "cell_type": "code",
   "execution_count": 22,
   "metadata": {},
   "outputs": [],
   "source": [
    "# stop the experiment\n",
    "gui_process.terminate()\n",
    "gui_process.join()\n",
    "\n",
    "samna_graph.stop()\n",
    "samna.device.close_device(devkit)"
   ]
  }
 ],
 "metadata": {
  "kernelspec": {
   "display_name": "Python 3",
   "language": "python",
   "name": "python3"
  },
  "language_info": {
   "codemirror_mode": {
    "name": "ipython",
    "version": 3
   },
   "file_extension": ".py",
   "mimetype": "text/x-python",
   "name": "python",
   "nbconvert_exporter": "python",
   "pygments_lexer": "ipython3",
   "version": "3.6.9"
  }
 },
 "nbformat": 4,
 "nbformat_minor": 1
}
