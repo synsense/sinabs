{
 "cells": [
  {
   "attachments": {},
   "cell_type": "markdown",
   "metadata": {},
   "source": [
    "# Using Readout Layer\n",
    "\n",
    "This tutorial demonstrate the way of using the readout layer of Speck2e DevKit."
   ]
  },
  {
   "attachments": {},
   "cell_type": "markdown",
   "metadata": {},
   "source": [
    "## What is readout layer\n",
    "\n",
    "![readout_layer_intro](../../_static/using_readout_layer/readout_layer.png)\n",
    "\n",
    "Readout layer is used to **readout the classification results** from the chip. It is **driven by a slow clock**.\n",
    "\n",
    "\n",
    "- It has 15 channels(category id) and the index of each channel is starting from 1 to 15. In each channel, we count the number of events of the input neuron of each channel at every clock input (clock_slow) (counter is 16bit), all channels computes this parallely.\n",
    "\n",
    "    And we store the counted value during that **1-clock cycle in a 16bit register**. Then on the next clock cycle we count the events on that neuron and compute the total events during that clock cycle.And we put this in **another register.**\n",
    "\n",
    "    And then we do this **every clock cycle**, and compute the average of the events over **1, 16 or 32 clock cycle** (this depends on the configuration register). This way we have average(16-bit) of each channel we have.\n",
    "\n",
    "\n",
    "- Then average signals of all 15-channel goes into **\"Find Maximum Average\"** block.\n",
    "\n",
    "    This block finds the average of maximum spiking neuron and outputs the **average information** (which is 16-bit), and it also outputs the **index of the maximum spiking neuron.**\n",
    "\n",
    "\n",
    "- Then we have another block called **\"Average Select\"**\n",
    "\n",
    "    This block also receives the average output of all the channels,and in addition it also has an input called **AVERAGE_SEL** which can be set either through S2P interface or through configuration register. And then this block outputs the average value of the neuron pointed by AVERAGE_SEL<3:0> bits\n",
    "\n",
    "\n",
    "- And finally we have another block called **\"Threshold Compare\"**\n",
    "\n",
    "    This block, similar to others, receives the average otputs of all channels as an input, compares each of these averages (16-bit) of each channel with the threshold(16-bit) set by configuration register and the output of this block is called **threshold_compare<15:1>**\n",
    "    \n",
    "    So we have one-bit representation of each channel as threshold_compare. If average output of the channel is bigger than threshold , the corresponding bit of threshold_compare becomes \"1\"  (average_X[15:0] > threshold<15:0> --> threshold_compare_X=1)"
   ]
  },
  {
   "cell_type": "code",
   "execution_count": 1,
   "metadata": {},
   "outputs": [
    {
     "name": "stdout",
     "output_type": "stream",
     "text": [
      "Requirement already satisfied: matplotlib in /home/allan/PycharmProjects/sinabs-dynapcnn/venv/lib/python3.8/site-packages (3.6.2)\n",
      "Requirement already satisfied: cycler>=0.10 in /home/allan/PycharmProjects/sinabs-dynapcnn/venv/lib/python3.8/site-packages (from matplotlib) (0.11.0)\n",
      "Requirement already satisfied: fonttools>=4.22.0 in /home/allan/PycharmProjects/sinabs-dynapcnn/venv/lib/python3.8/site-packages (from matplotlib) (4.38.0)\n",
      "Requirement already satisfied: python-dateutil>=2.7 in /home/allan/PycharmProjects/sinabs-dynapcnn/venv/lib/python3.8/site-packages (from matplotlib) (2.8.2)\n",
      "Requirement already satisfied: pillow>=6.2.0 in /home/allan/PycharmProjects/sinabs-dynapcnn/venv/lib/python3.8/site-packages (from matplotlib) (9.3.0)\n",
      "Requirement already satisfied: numpy>=1.19 in /home/allan/PycharmProjects/sinabs-dynapcnn/venv/lib/python3.8/site-packages (from matplotlib) (1.24.0)\n",
      "Requirement already satisfied: pyparsing>=2.2.1 in /home/allan/PycharmProjects/sinabs-dynapcnn/venv/lib/python3.8/site-packages (from matplotlib) (3.0.9)\n",
      "Requirement already satisfied: kiwisolver>=1.0.1 in /home/allan/PycharmProjects/sinabs-dynapcnn/venv/lib/python3.8/site-packages (from matplotlib) (1.4.4)\n",
      "Requirement already satisfied: contourpy>=1.0.1 in /home/allan/PycharmProjects/sinabs-dynapcnn/venv/lib/python3.8/site-packages (from matplotlib) (1.0.6)\n",
      "Requirement already satisfied: packaging>=20.0 in /home/allan/PycharmProjects/sinabs-dynapcnn/venv/lib/python3.8/site-packages (from matplotlib) (22.0)\n",
      "Requirement already satisfied: six>=1.5 in /home/allan/PycharmProjects/sinabs-dynapcnn/venv/lib/python3.8/site-packages (from python-dateutil>=2.7->matplotlib) (1.16.0)\n"
     ]
    }
   ],
   "source": [
    "! pip install matplotlib"
   ]
  },
  {
   "cell_type": "code",
   "execution_count": 2,
   "metadata": {},
   "outputs": [],
   "source": [
    "import torch\n",
    "import samna\n",
    "import samnagui\n",
    "import time\n",
    "import random\n",
    "import copy\n",
    "import matplotlib.pyplot as plt\n",
    "\n",
    "from torch import nn\n",
    "from sinabs.backend.dynapcnn import DynapcnnNetwork\n",
    "from multiprocessing import Process\n",
    "from sinabs.from_torch import from_model\n",
    "from sinabs.layers.pool2d import SumPool2d\n",
    "from typing import Union\n",
    "from matplotlib.ticker import MaxNLocator"
   ]
  },
  {
   "attachments": {},
   "cell_type": "markdown",
   "metadata": {},
   "source": [
    "## 1. Create a 1-layer CNN which can be deployed to the devkit"
   ]
  },
  {
   "cell_type": "code",
   "execution_count": 3,
   "metadata": {},
   "outputs": [],
   "source": [
    "# init a cnn it has 2 out_channels for a binary classification task\n",
    "# the input shape of this cnn is (1, 16, 16), output shape of this cnn is (2, 1, 1)\n",
    "\n",
    "input_shape = (1, 16, 16)\n",
    "\n",
    "cnn = nn.Sequential(\n",
    "    SumPool2d(kernel_size=(1, 1)),\n",
    "    nn.Conv2d(\n",
    "        in_channels=1,\n",
    "        out_channels=2,\n",
    "        kernel_size=(16, 16),\n",
    "        stride=(1, 1),\n",
    "        padding=(0, 0),\n",
    "        bias=False,\n",
    "    ),\n",
    "    nn.ReLU(),\n",
    ")"
   ]
  },
  {
   "attachments": {},
   "cell_type": "markdown",
   "metadata": {},
   "source": [
    "**assign the CNN layer with a handcraft weight**:\n",
    "\n",
    "The reason for designing the weights in this way is:\n",
    "\n",
    "1. We will create a bunch of fake input spikes $X[x_0, x_1, ...x_{T}]$ as the input of the devkit.\n",
    "2. for any input spike $x_{t}$ with timestamp $t$:\n",
    "\n",
    "- if $t$, if $t < 0.5 * T$, the $y$ coordinate of spike $x_t$ will be in range [0, 7], i.e. on the top-half of the input region.\n",
    "- if $t$, if $t > 0.5 * T$, the $y$ coordinate of spike $x_t$ will be in range [8, 15].i.e. on the bottom-half of the input region.\n",
    "\n",
    "3. Based on this\n",
    "- the output spike from time $0$ to $0.5 * T$ will all come from output channel #0\n",
    "- the output spike from time $0.5 * T$ to $T$ will all come from output channel #1\n",
    "\n",
    "![handcraft_weights](../../_static/using_readout_layer/handcraft_weights.png)"
   ]
  },
  {
   "cell_type": "code",
   "execution_count": 4,
   "metadata": {},
   "outputs": [],
   "source": [
    "# set handcraft weights for the CNN\n",
    "weight_ones = torch.ones(1, 8, 16, dtype=torch.float32)\n",
    "weight_zeros = torch.zeros(1, 8, 16, dtype=torch.float32)\n",
    "\n",
    "channel_1_weight = torch.cat([weight_ones, weight_zeros], dim=1).unsqueeze(0)\n",
    "channel_2_weight = torch.cat([weight_zeros, weight_ones], dim=1).unsqueeze(0)\n",
    "handcraft_weight = torch.cat([channel_1_weight, channel_2_weight], dim=0)\n",
    "\n",
    "output_cnn_lyr_id = 1\n",
    "cnn[output_cnn_lyr_id].weight.data = handcraft_weight"
   ]
  },
  {
   "attachments": {},
   "cell_type": "markdown",
   "metadata": {},
   "source": [
    "**Notice: Speck2e devkit neuron index remap**\n",
    "\n",
    "Since for speck2e devkit there is wrong mapping relationship between the output channel index and the readout channel index. We need to define a function to remap the channel index.\n",
    "\n",
    "**If your devkit is not speck2e/speck2f, then you don't need this remap step**\n",
    "\n",
    "![neuron index mismatch](../../_static/using_readout_layer/neuron_id_mismatch.png)"
   ]
  },
  {
   "cell_type": "code",
   "execution_count": 5,
   "metadata": {},
   "outputs": [],
   "source": [
    "def remapping_output_index(\n",
    "    output_layer: Union[nn.Conv2d, nn.Linear]\n",
    ") -> Union[nn.Conv2d, nn.Linear]:\n",
    "    \"\"\"\n",
    "    Since the mapping of output channel's index from last cnn layer to the readout layer is not correct\n",
    "    for speck2e devkit.\n",
    "    We need to remap the index for the channel's index.\n",
    "    The mapping law is:\n",
    "    readout_layer_channel <--> cnn_layer_output_channel\n",
    "       1  <--> 0\n",
    "       2  <--> 4\n",
    "       x  <--> 4(x - 1)\n",
    "          ...\n",
    "       15 <--> 56\n",
    "       Args:\n",
    "           output_layer: Usually we can use both nn.Linear and nn.Conv2d as the output computational layer of\n",
    "           a classifier. The shape of weights of those two different type layer are:\n",
    "           nn.Linear -> [output_channel, input_channel]\n",
    "           nn.Conv2d -> [output_channel, input_channel, *kernel_size]\n",
    "       Returns:\n",
    "           new_output_layer: mapped weight of last layer.\n",
    "    \"\"\"\n",
    "    weights = output_layer.weight.data\n",
    "\n",
    "    out_channel, input_channel, *rest_dims = weights.size()\n",
    "    new_out_channel = (out_channel - 1) * 4 + 1\n",
    "\n",
    "    new_weights = torch.zeros(\n",
    "        new_out_channel,\n",
    "        input_channel,\n",
    "        *rest_dims,\n",
    "        dtype=weights.dtype,\n",
    "        device=weights.device,\n",
    "    )\n",
    "\n",
    "    for channel_id in range(out_channel):\n",
    "        new_weights[channel_id * 4, :] = weights[channel_id, :]\n",
    "\n",
    "    output_layer.weight.data = new_weights\n",
    "\n",
    "    # change the attributes for the parameter layer\n",
    "    if isinstance(output_layer, nn.Conv2d):\n",
    "        output_layer.out_channels = new_out_channel\n",
    "    elif isinstance(output_layer, nn.Linear):\n",
    "        output_layer.out_features = new_out_channel\n",
    "    else:\n",
    "        raise TypeError(\n",
    "            f\"Expect nn.Conv2d or nn.Linear but got {output_layer.__class__.__name__}\"\n",
    "        )\n",
    "\n",
    "    return output_layer"
   ]
  },
  {
   "cell_type": "code",
   "execution_count": 6,
   "metadata": {},
   "outputs": [],
   "source": [
    "# remapping the output layer's\n",
    "cnn[output_cnn_lyr_id] = remapping_output_index(cnn[output_cnn_lyr_id])"
   ]
  },
  {
   "attachments": {},
   "cell_type": "markdown",
   "metadata": {},
   "source": [
    "Then we convert the CNN into SNN and trying to deploy it to the devkit"
   ]
  },
  {
   "cell_type": "code",
   "execution_count": 7,
   "metadata": {},
   "outputs": [],
   "source": [
    "# cnn to snn\n",
    "snn = from_model(cnn, input_shape=input_shape, batch_size=1).spiking_model\n",
    "# snn to DynapcnnNetwork\n",
    "dynapcnn_net = DynapcnnNetwork(snn=snn, input_shape=input_shape, dvs_input=False)"
   ]
  },
  {
   "attachments": {},
   "cell_type": "markdown",
   "metadata": {},
   "source": [
    "## 2. Two different types of output events from readout layer\n",
    "\n",
    "There two different types of events can be obtained from the readout layer:\n",
    "\n",
    "1.[**ReadoutPinValue**](https://synsense-sys-int.gitlab.io/samna/reference/speck2e/event/index.html?highlight=pinvalue#samna.speck2e.event.ReadoutPinValue). \n",
    "\n",
    "It is generated only when the input spikes to one of the readout layer channel achieves the threshold of the readout layer during one slow-clock cycle. i.e. it is possible that ReadoutPinValue will not be generated at every slow-clock cycle.\n",
    "\n",
    "It has an attribute named `index` which represents the neuron index with the max average input spikes.\n",
    "\n",
    "2.[**ReadoutValue**](https://synsense-sys-int.gitlab.io/samna/reference/speck2e/event/index.html?highlight=readoutvalue#samna.speck2e.event.ReadoutValue) \n",
    "\n",
    "It is generated at every slock-clock cycle.\n",
    "\n",
    "It has an attribute named `value`. It is a number with 21 bits. But setting up different [`output_mod_sel`](https://synsense-sys-int.gitlab.io/samna/reference/speck2e/configuration/index.html?highlight=output_mode_sel#samna.speck2e.configuration.ReadoutConfig.output_mode_sel) this number could have different meaning.\n",
    "\n",
    "\n",
    "|output_mode_sel  |bit[20]     |bit[19:16]                   |bit[15:0]                            |\n",
    "|:-               |:-          |:-                           |:-                                   |\n",
    "|0b00             | data valid | neuron index of max average |power down (clock gating)            |\n",
    "|0b01             | data valid | neuron index of max average |threshold compare output             |\n",
    "|0b10             | data valid | neuron index of max average |average output of the selected neuron|\n",
    "|0b11             | data valid | neuron index of max average |average output of max spiking neuron |\n",
    "\n",
    "\n",
    "In this experiment we use the mode: `0b01`\n",
    "\n"
   ]
  },
  {
   "attachments": {},
   "cell_type": "markdown",
   "metadata": {},
   "source": [
    "## 3. Prepare for deployment\n",
    "\n",
    "To deploy the SNN to the devkit, there are usually 3 parts you need to set up:\n",
    "\n",
    "1. **Devkit configuration**. It is an instance of the `samna.speckxx.configuration` class. It contains the configuration of the `CNN Layer`, `DVS Layer` and `Readout Layer`, those 3 parts of the devkit configuration are which we most care about.\n",
    "\n",
    "2. **Samna graph**. It defines how the data flows into and out from the devkit, then we can obtain different type of data that we need from related nodes of the graph.\n",
    "\n",
    "3. **Visualizer(optional)**. Samna provides a GUI visualizer for us to visualize: 1.the input signal of the devkit. 2.the output of the devkit. 3.the real-time power consumption of the devkit.\n",
    "\n",
    "In this experiment, the samna graph is defined as below:\n",
    "\n",
    "\n",
    "![samna graph](../../_static/using_readout_layer/samna_graph.png)\n",
    "\n",
    "Then we can:\n",
    "\n",
    "1. Visualize the input of devkit.\n",
    "2. Get data from readout layer.\n",
    "3. Get data from last CNN layer.\n",
    "\n",
    "### Notice\n",
    "\n",
    "**Make sure your devkit is plugged in your PC when running the experiment codes below**"
   ]
  },
  {
   "attachments": {},
   "cell_type": "markdown",
   "metadata": {},
   "source": [
    "### 3.1 Create devkit configuration"
   ]
  },
  {
   "cell_type": "code",
   "execution_count": 8,
   "metadata": {},
   "outputs": [
    {
     "name": "stdout",
     "output_type": "stream",
     "text": [
      "Network is valid\n",
      "link output layer: 0 to readout layer: 12\n"
     ]
    }
   ],
   "source": [
    "readout_threshold = 1\n",
    "\n",
    "# init devkit config\n",
    "devkit_cfg = dynapcnn_net.make_config(device=\"speck2edevkit:0\")\n",
    "\n",
    "# ========== modify devkit config ==========\n",
    "\n",
    "\"\"\"cnn layers configuration\"\"\"\n",
    "# send to output spike from cnn output layer to readout layer as its input\n",
    "cnn_output_layer = dynapcnn_net.chip_layers_ordering[-1]\n",
    "# the readout layer id is fixed for speck2e devkit which is 12\n",
    "readout_layer = 12\n",
    "print(f\"link output layer: {cnn_output_layer} to readout layer: {readout_layer}\")\n",
    "devkit_cfg.cnn_layers[cnn_output_layer].monitor_enable = True\n",
    "devkit_cfg.cnn_layers[cnn_output_layer].destinations[0].enable = True\n",
    "devkit_cfg.cnn_layers[cnn_output_layer].destinations[0].layer = readout_layer\n",
    "\n",
    "\"\"\"readout layer configuration\"\"\"\n",
    "devkit_cfg.readout.enable = True\n",
    "devkit_cfg.readout.readout_configuration_sel = 0b11\n",
    "devkit_cfg.readout.output_mode_sel = 0b01\n",
    "devkit_cfg.readout.low_pass_filter_disable = True\n",
    "devkit_cfg.readout.threshold = readout_threshold\n",
    "\n",
    "\n",
    "\"\"\"dvs layer configuration\"\"\"\n",
    "# link the dvs layer to the 1st layer of the cnn layers\n",
    "devkit_cfg.dvs_layer.destinations[0].enable = True\n",
    "devkit_cfg.dvs_layer.destinations[0].layer = dynapcnn_net.chip_layers_ordering[0]\n",
    "# merge the polarity of input events\n",
    "devkit_cfg.dvs_layer.merge = True\n",
    "# drop the raw input events from the dvs sensor, since we write events to devkit manually\n",
    "devkit_cfg.dvs_layer.pass_sensor_events = False\n",
    "# enable monitoring the output from dvs pre-preprocessing layer\n",
    "devkit_cfg.dvs_layer.monitor_enable = True"
   ]
  },
  {
   "attachments": {},
   "cell_type": "markdown",
   "metadata": {},
   "source": [
    "### 3.2 Construct samna graph"
   ]
  },
  {
   "cell_type": "code",
   "execution_count": 9,
   "metadata": {},
   "outputs": [
    {
     "name": "stdout",
     "output_type": "stream",
     "text": [
      "Open device: Speck2eDevKit\n"
     ]
    }
   ],
   "source": [
    "# open devkit\n",
    "device_names = [each.device_type_name for each in samna.device.get_all_devices()]\n",
    "print(f\"Open device: {device_names[0]}\")\n",
    "devkit = samna.device.open_device(device_names[0])"
   ]
  },
  {
   "cell_type": "code",
   "execution_count": 10,
   "metadata": {},
   "outputs": [
    {
     "data": {
      "text/plain": [
       "True"
      ]
     },
     "execution_count": 10,
     "metadata": {},
     "output_type": "execute_result"
    }
   ],
   "source": [
    "# init the graph\n",
    "samna_graph = samna.graph.EventFilterGraph()\n",
    "\n",
    "\n",
    "# init necessary nodes in samna graph\n",
    "# node for writing fake inputs into devkit\n",
    "input_buffer_node = samna.BasicSourceNode_speck2e_event_speck2e_input_event()\n",
    "# node for reading ReadoutValue\n",
    "readout_value_buffer_node = samna.BasicSinkNode_speck2e_event_output_event()\n",
    "# node for reading ReadoutPinValue\n",
    "pin_value_buffer_node = samna.BasicSinkNode_speck2e_event_output_event()\n",
    "# node for reading Spike(i.e. the output from last CNN layer)\n",
    "spike_buffer_node = samna.BasicSinkNode_speck2e_event_output_event()\n",
    "\n",
    "\n",
    "# build input branch for graph\n",
    "samna_graph.sequential([input_buffer_node, devkit.get_model_sink_node()])\n",
    "\n",
    "\n",
    "# build output branches for graph\n",
    "# branch #1: for the dvs input visualization\n",
    "_, _, streamer = samna_graph.sequential(\n",
    "    [devkit.get_model_source_node(), \"Speck2eDvsToVizConverter\", \"VizEventStreamer\"]\n",
    ")\n",
    "# branch #2: for obtaining the ReadoutValue\n",
    "_, type_filter_node_readout, _ = samna_graph.sequential(\n",
    "    [\n",
    "        devkit.get_model_source_node(),\n",
    "        \"Speck2eOutputEventTypeFilter\",\n",
    "        readout_value_buffer_node,\n",
    "    ]\n",
    ")\n",
    "# branch #3: for obtaining the ReadoutPinValue\n",
    "_, type_filter_node_pin, _ = samna_graph.sequential(\n",
    "    [\n",
    "        devkit.get_model_source_node(),\n",
    "        \"Speck2eOutputEventTypeFilter\",\n",
    "        pin_value_buffer_node,\n",
    "    ]\n",
    ")\n",
    "# branch #4: for obtaining the output Spike from cnn output layer\n",
    "_, type_filter_node_spike, _ = samna_graph.sequential(\n",
    "    [devkit.get_model_source_node(), \"Speck2eOutputEventTypeFilter\", spike_buffer_node]\n",
    ")\n",
    "\n",
    "\n",
    "# set the streamer nodes of the graph\n",
    "# tcp communication port for dvs input data visualization\n",
    "streamer_endpoint = \"tcp://0.0.0.0:40000\"\n",
    "streamer.set_streamer_endpoint(streamer_endpoint)\n",
    "# add desired type for filter node\n",
    "type_filter_node_readout.set_desired_type(\"speck2e::event::ReadoutValue\")\n",
    "type_filter_node_pin.set_desired_type(\"speck2e::event::ReadoutPinValue\")\n",
    "type_filter_node_spike.set_desired_type(\"speck2e::event::Spike\")\n",
    "\n",
    "\n",
    "# start samna graph before using the devkit\n",
    "samna_graph.start()"
   ]
  },
  {
   "attachments": {},
   "cell_type": "markdown",
   "metadata": {},
   "source": [
    "### 3.3 Set up visualizer"
   ]
  },
  {
   "cell_type": "code",
   "execution_count": 11,
   "metadata": {},
   "outputs": [
    {
     "name": "stdout",
     "output_type": "stream",
     "text": [
      "sender_endpoint: tcp://0.0.0.0:40863\n",
      "receiver_endpoint: tcp://0.0.0.0:35285\n"
     ]
    }
   ],
   "source": [
    "# init samna node for tcp transmission\n",
    "samna_node = samna.init_samna()\n",
    "sender_endpoint = samna_node.get_sender_endpoint()\n",
    "receiver_endpoint = samna_node.get_receiver_endpoint()\n",
    "visualizer_id = 3\n",
    "time.sleep(1)  # wait tcp connection build up, this is necessary to open remote node."
   ]
  },
  {
   "cell_type": "code",
   "execution_count": 12,
   "metadata": {},
   "outputs": [],
   "source": [
    "# define a function that run the GUI visualizer in the sub-process\n",
    "def run_visualizer(receiver_endpoint, sender_endpoint, visualizer_id):\n",
    "    samnagui.runVisualizer(0.6, 0.6, receiver_endpoint, sender_endpoint, visualizer_id)\n",
    "\n",
    "    return"
   ]
  },
  {
   "cell_type": "code",
   "execution_count": 13,
   "metadata": {},
   "outputs": [
    {
     "name": "stdout",
     "output_type": "stream",
     "text": [
      "GUI process started, you should see a window pop up!\n",
      "successful connect the GUI visualizer!\n"
     ]
    }
   ],
   "source": [
    "# create the subprocess\n",
    "gui_process = Process(\n",
    "    target=run_visualizer, args=(receiver_endpoint, sender_endpoint, visualizer_id)\n",
    ")\n",
    "gui_process.start()\n",
    "print(\"GUI process started, you should see a window pop up!\")\n",
    "\n",
    "# wait for open visualizer and connect to it.\n",
    "timeout = 10\n",
    "begin = time.time()\n",
    "name = \"visualizer\" + str(visualizer_id)\n",
    "while time.time() - begin < timeout:\n",
    "    try:\n",
    "        time.sleep(0.05)\n",
    "        samna.open_remote_node(visualizer_id, name)\n",
    "\n",
    "    except:\n",
    "        continue\n",
    "\n",
    "    else:\n",
    "        visualizer = getattr(samna, name)\n",
    "        print(f\"successful connect the GUI visualizer!\")\n",
    "        break"
   ]
  },
  {
   "cell_type": "code",
   "execution_count": 14,
   "metadata": {},
   "outputs": [
    {
     "name": "stdout",
     "output_type": "stream",
     "text": [
      "now you should see a change on the GUI window!\n"
     ]
    }
   ],
   "source": [
    "# set up the visualizer and GUI layout\n",
    "\n",
    "# set visualizer's receiver endpoint to streamer's sender endpoint for tcp communication\n",
    "visualizer.receiver.set_receiver_endpoint(streamer_endpoint)\n",
    "# connect the receiver output to splitter inside the visualizer\n",
    "visualizer.receiver.add_destination(visualizer.splitter.get_input_channel())\n",
    "\n",
    "# add plots to gui\n",
    "activity_plot_id = visualizer.plots.add_activity_plot(128, 128, \"DVS Layer\")\n",
    "plot = visualizer.plot_0\n",
    "plot.set_layout(0, 0, 0.5, 0.89)\n",
    "\n",
    "visualizer.splitter.add_destination(\n",
    "    \"dvs_event\", visualizer.plots.get_plot_input(activity_plot_id)\n",
    ")\n",
    "visualizer.plots.report()\n",
    "\n",
    "print(\"now you should see a change on the GUI window!\")"
   ]
  },
  {
   "attachments": {},
   "cell_type": "markdown",
   "metadata": {},
   "source": [
    "### 3.4 Set up readout layer's driven slow-clock\n",
    "\n",
    "As states above, the readout layer of the chip is driven by a slow-clock. So we need to set up the frequency of the slow-clock, it defines the frequency for reading the classifier's result from the devkit."
   ]
  },
  {
   "cell_type": "code",
   "execution_count": 15,
   "metadata": {},
   "outputs": [],
   "source": [
    "dk_io = devkit.get_io_module()\n",
    "slow_clk_freq = 20  # Hz\n",
    "dk_io.set_slow_clk_rate(slow_clk_freq)\n",
    "dk_io.set_slow_clk(True)"
   ]
  },
  {
   "attachments": {},
   "cell_type": "markdown",
   "metadata": {},
   "source": [
    "## 4. Start readout from devkit"
   ]
  },
  {
   "attachments": {},
   "cell_type": "markdown",
   "metadata": {},
   "source": [
    "### 4.1 Create fake input for devkit"
   ]
  },
  {
   "cell_type": "code",
   "execution_count": 16,
   "metadata": {},
   "outputs": [],
   "source": [
    "def create_fake_input_events(time_sec: int, data_rate: int = 1000):\n",
    "    \"\"\"\n",
    "    Args:\n",
    "        time_sec: how long is the input events\n",
    "        data_rate: how many input events generated in 1 second\n",
    "\n",
    "        During the first half time, it generates events where y coordinate only in range[0, 7] which means top half\n",
    "        region of the input feature map.\n",
    "\n",
    "        Then in the last half of time, it generates events where y coordinate only in range[8, 15] which means bottom\n",
    "        half region of the input feature map.\n",
    "\n",
    "    \"\"\"\n",
    "\n",
    "    time_offset_micro_sec = 5000  # make the timestamp start from 5000\n",
    "    time_micro_sec = time_sec * 1000000  # timestamp unit is micro-second\n",
    "    time_stride = 1000000 // data_rate\n",
    "\n",
    "    half_time = time_micro_sec // 2\n",
    "\n",
    "    events = []\n",
    "    for time_stamp in range(\n",
    "        time_offset_micro_sec, time_micro_sec + time_offset_micro_sec + 1, time_stride\n",
    "    ):\n",
    "        spk = samna.speck2e.event.DvsEvent()\n",
    "        spk.timestamp = time_stamp\n",
    "        spk.p = random.randint(0, 1)\n",
    "        spk.x = random.randint(0, 15)\n",
    "\n",
    "        if time_stamp < half_time:\n",
    "            spk.y = random.randint(\n",
    "                0, 7\n",
    "            )  # spike located in top half of the input region\n",
    "        else:\n",
    "            spk.y = random.randint(\n",
    "                8, 15\n",
    "            )  # spike located in bottom half of the input region\n",
    "\n",
    "        events.append(spk)\n",
    "\n",
    "    return events"
   ]
  },
  {
   "cell_type": "code",
   "execution_count": 17,
   "metadata": {},
   "outputs": [
    {
     "name": "stdout",
     "output_type": "stream",
     "text": [
      "number of fake input spikes: 15001\n"
     ]
    }
   ],
   "source": [
    "# create fake input events\n",
    "input_time_length = 3  # seconds\n",
    "data_rate = 5000\n",
    "input_events = create_fake_input_events(time_sec=3, data_rate=data_rate)\n",
    "\n",
    "print(f\"number of fake input spikes: {len(input_events)}\")"
   ]
  },
  {
   "cell_type": "code",
   "execution_count": 18,
   "metadata": {},
   "outputs": [
    {
     "data": {
      "text/plain": [
       "60"
      ]
     },
     "execution_count": 18,
     "metadata": {},
     "output_type": "execute_result"
    }
   ],
   "source": [
    "# estimated slow-clock cycle for processing the input spikes\n",
    "clock_cycles_esitmated = slow_clk_freq * input_time_length\n",
    "clock_cycles_esitmated"
   ]
  },
  {
   "attachments": {},
   "cell_type": "markdown",
   "metadata": {},
   "source": [
    "### 4.2 Read the ReadoutPinValue"
   ]
  },
  {
   "cell_type": "code",
   "execution_count": 19,
   "metadata": {},
   "outputs": [],
   "source": [
    "# to read the ReadoutPinValue, we need to modify the devkit's readout layer's config a little bit\n",
    "devkit_cfg.readout.monitor_enable = False\n",
    "devkit_cfg.readout.readout_pin_monitor_enable = True\n",
    "\n",
    "\n",
    "# then apply the config to devkit\n",
    "devkit.get_model().apply_configuration(devkit_cfg)\n",
    "time.sleep(0.1)"
   ]
  },
  {
   "cell_type": "code",
   "execution_count": 20,
   "metadata": {},
   "outputs": [
    {
     "name": "stdout",
     "output_type": "stream",
     "text": [
      "You should see the input events through the GUI window!\n"
     ]
    }
   ],
   "source": [
    "# write the fake input into the devkit\n",
    "\n",
    "# enable & reset the stop-watch of devkit, this is mainly for the timestamp processing for the input&output events.\n",
    "stop_watch = devkit.get_stop_watch()\n",
    "stop_watch.set_enable_value(True)\n",
    "stop_watch.reset()\n",
    "time.sleep(0.01)\n",
    "\n",
    "# clear output buffer\n",
    "pin_value_buffer_node.get_events()\n",
    "spike_buffer_node.get_events()\n",
    "\n",
    "# write through the input buffer node\n",
    "input_time_length = (input_events[-1].timestamp - input_events[0].timestamp) / 1e6\n",
    "input_buffer_node.write(input_events)\n",
    "# sleep till all input events is sent and processed\n",
    "time.sleep(input_time_length + 0.02)\n",
    "\n",
    "# read the ReadoutPinValue from related buffer node\n",
    "pin_value_events = pin_value_buffer_node.get_events()\n",
    "\n",
    "print(\"You should see the input events through the GUI window!\")"
   ]
  },
  {
   "cell_type": "code",
   "execution_count": 21,
   "metadata": {},
   "outputs": [
    {
     "name": "stdout",
     "output_type": "stream",
     "text": [
      "The estimated clock cycle is 60\n",
      "Number of ReadoutPinValue events: 60\n"
     ]
    },
    {
     "data": {
      "image/png": "[encoded data removed]",
      "text/plain": [
       "<Figure size 640x480 with 1 Axes>"
      ]
     },
     "metadata": {},
     "output_type": "display_data"
    }
   ],
   "source": [
    "# the number of the ReadoutPinValue should be very close to (or the same as) the estimated clock cycle.\n",
    "print(f\"The estimated clock cycle is {clock_cycles_esitmated}\")\n",
    "print(f\"Number of ReadoutPinValue events: {len(pin_value_events)}\")\n",
    "\n",
    "# get the timestamp of the output event\n",
    "pin_value_timestamp = [each.timestamp for each in pin_value_events]\n",
    "# shift timestep starting from 0\n",
    "start_t = pin_value_timestamp[0]\n",
    "pin_value_timestamp = [each - start_t for each in pin_value_timestamp]\n",
    "\n",
    "# get the index of the output neuron with maximum output\n",
    "neuron_id = [each.index for each in pin_value_events]\n",
    "\n",
    "# plot the output neuron index vs. time\n",
    "fig, ax = plt.subplots()\n",
    "ax.scatter(pin_value_timestamp, neuron_id)\n",
    "ax.set(xlim=(0, 3e6), ylim=(0, 2.5))\n",
    "ax.set_xlabel(\"time( micro sec)\")\n",
    "ax.set_ylabel(\"neuron index\")\n",
    "ax.set_title(\"ReadoutPinValue\")\n",
    "ax.yaxis.set_major_locator(MaxNLocator(integer=True))  # make y-axis only show integer"
   ]
  },
  {
   "attachments": {},
   "cell_type": "markdown",
   "metadata": {},
   "source": [
    "### 4.3 Read the ReadoutValue"
   ]
  },
  {
   "cell_type": "code",
   "execution_count": 22,
   "metadata": {},
   "outputs": [],
   "source": [
    "# to read the ReadoutValue, we need to modify the devkit's readout layer's config also\n",
    "\n",
    "# you can’t monitor any Spike events from CNN layers or the DVS sensor anymore by setting\n",
    "# `readout.monitor_enable = True`\n",
    "devkit_cfg.readout.monitor_enable = True\n",
    "# disable ReadoutPinvalue reading\n",
    "devkit_cfg.readout.readout_pin_monitor_enable = False\n",
    "\n",
    "\n",
    "# then re-apply the config to devkit\n",
    "devkit.get_model().apply_configuration(devkit_cfg)\n",
    "time.sleep(0.1)"
   ]
  },
  {
   "cell_type": "code",
   "execution_count": 23,
   "metadata": {},
   "outputs": [
    {
     "name": "stdout",
     "output_type": "stream",
     "text": [
      "You will not see any input events through the GUI window!\n"
     ]
    }
   ],
   "source": [
    "# write the fake input into the devkit again\n",
    "\n",
    "# enable & reset the stop-watch of devkit, this is mainly for the timestamp processing for the input&output events.\n",
    "stop_watch = devkit.get_stop_watch()\n",
    "stop_watch.set_enable_value(True)\n",
    "stop_watch.reset()\n",
    "time.sleep(0.01)\n",
    "\n",
    "# clear output buffer\n",
    "readout_value_buffer_node.get_events()\n",
    "\n",
    "# write through the input buffer node\n",
    "input_time_length = (input_events[-1].timestamp - input_events[0].timestamp) / 1e6\n",
    "input_buffer_node.write(input_events)\n",
    "# sleep till all input events is sent and processed\n",
    "time.sleep(input_time_length + 0.02)\n",
    "\n",
    "# read the buffer immediately after the process waiting finished.\n",
    "# since every slock-clock cycle will append a new ReadoutValue event into the buffer\n",
    "readout_value_events = readout_value_buffer_node.get_events()\n",
    "\n",
    "print(\"You will not see any input events through the GUI window!\")"
   ]
  },
  {
   "cell_type": "code",
   "execution_count": 24,
   "metadata": {},
   "outputs": [
    {
     "name": "stdout",
     "output_type": "stream",
     "text": [
      "The estimated clock cycle is 60\n",
      "Number of ReadoutValue events: 61\n"
     ]
    },
    {
     "data": {
      "image/png": "[encoded data removed]",
      "text/plain": [
       "<Figure size 640x480 with 1 Axes>"
      ]
     },
     "metadata": {},
     "output_type": "display_data"
    }
   ],
   "source": [
    "# the number of the ReadoutValue should be very close to (or the same as) the estimated clock cycle.\n",
    "print(f\"The estimated clock cycle is {clock_cycles_esitmated}\")\n",
    "print(f\"Number of ReadoutValue events: {len(readout_value_events)}\")\n",
    "\n",
    "# the ReadoutValue event don't have a timestamp, but we know it is generated at every slow-clock cycle\n",
    "time_each_clock_cycle = 1e6 / slow_clk_freq\n",
    "readout_value_timestamp = [\n",
    "    idx * time_each_clock_cycle for idx in range(len(readout_value_events))\n",
    "]\n",
    "\n",
    "# shift timestep starting from 0\n",
    "start_t = readout_value_timestamp[0]\n",
    "readout_value_timestamp = [each - start_t for each in readout_value_timestamp]\n",
    "\n",
    "# get the index of the output neuron with maximum output\n",
    "neuron_id = [(each.value & 0x0F0000) >> 16 for each in readout_value_events]\n",
    "\n",
    "# plot the output neuron index vs. time\n",
    "fig, ax = plt.subplots()\n",
    "ax.scatter(readout_value_timestamp, neuron_id)\n",
    "ax.set(xlim=(0, 3e6), ylim=(0, 2.5))\n",
    "ax.set_xlabel(\"time( micro sec)\")\n",
    "ax.set_ylabel(\"neuron index\")\n",
    "ax.set_title(\"ReadoutValue\")\n",
    "ax.yaxis.set_major_locator(MaxNLocator(integer=True))"
   ]
  },
  {
   "attachments": {},
   "cell_type": "markdown",
   "metadata": {},
   "source": [
    "### 4.4 Check the output from DynapCNN Layer"
   ]
  },
  {
   "cell_type": "code",
   "execution_count": 25,
   "metadata": {},
   "outputs": [
    {
     "name": "stdout",
     "output_type": "stream",
     "text": [
      "number of output spikes from DynacpCNN Layer: 15001\n"
     ]
    },
    {
     "data": {
      "image/png": "[encoded data removed]",
      "text/plain": [
       "<Figure size 640x480 with 1 Axes>"
      ]
     },
     "metadata": {},
     "output_type": "display_data"
    }
   ],
   "source": [
    "# get the output events from last DynapCNN Layer\n",
    "dynapcnn_layer_events = spike_buffer_node.get_events()\n",
    "\n",
    "# eliminate the Spikes come from layer 13\n",
    "# since the input DVSEvents will be converted into Spikes and output from layer 13\n",
    "# so the Spikes from layer 13 is the input itself\n",
    "dynapcnn_layer_events = [each for each in dynapcnn_layer_events if each.layer != 13]\n",
    "\n",
    "print(f\"number of output spikes from DynacpCNN Layer: {len(dynapcnn_layer_events)}\")\n",
    "\n",
    "# get the timestamp of the output event\n",
    "spike_timestamp = [each.timestamp for each in dynapcnn_layer_events]\n",
    "# shift timestep starting from 0\n",
    "start_t = spike_timestamp[0]\n",
    "spike_timestamp = [each - start_t for each in spike_timestamp]\n",
    "\n",
    "# get the neuron index of each output spike\n",
    "neuron_id = [each.feature for each in dynapcnn_layer_events]\n",
    "\n",
    "\n",
    "# plot the output neuron index vs. time\n",
    "fig, ax = plt.subplots()\n",
    "ax.scatter(spike_timestamp, neuron_id)\n",
    "ax.set(xlim=(0, 3e6), ylim=(-0.5, 4.5))\n",
    "ax.set_xlabel(\"time( micro sec)\")\n",
    "ax.set_ylabel(\"neuron index\")\n",
    "ax.set_title(\"Spike\")\n",
    "ax.yaxis.set_major_locator(MaxNLocator(integer=True))\n",
    "\n",
    "# we should see the neuron index are 0 and 4 if using speck2e, because of the incorrect map relationship on speck2e devkit"
   ]
  },
  {
   "cell_type": "code",
   "execution_count": 26,
   "metadata": {},
   "outputs": [],
   "source": [
    "# stop devkit when experiment finished.\n",
    "\n",
    "gui_process.terminate()\n",
    "gui_process.join()\n",
    "\n",
    "samna_graph.stop()\n",
    "samna.device.close_device(devkit)"
   ]
  },
  {
   "cell_type": "code",
   "execution_count": null,
   "metadata": {},
   "outputs": [],
   "source": []
  }
 ],
 "metadata": {
  "kernelspec": {
   "display_name": "Python 3 (ipykernel)",
   "language": "python",
   "name": "python3"
  },
  "language_info": {
   "codemirror_mode": {
    "name": "ipython",
    "version": 3
   },
   "file_extension": ".py",
   "mimetype": "text/x-python",
   "name": "python",
   "nbconvert_exporter": "python",
   "pygments_lexer": "ipython3",
   "version": "3.8.0"
  }
 },
 "nbformat": 4,
 "nbformat_minor": 1
}
