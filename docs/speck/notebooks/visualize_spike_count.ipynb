{
 "cells": [
  {
   "cell_type": "markdown",
   "metadata": {},
   "source": [
    "# Spike Count Visualization\n",
    "\n",
    "This tutorial demonstrates the way of visualizing the spike count of the last DynapCNN layer."
   ]
  },
  {
   "cell_type": "code",
   "execution_count": 1,
   "metadata": {},
   "outputs": [
    {
     "name": "stdout",
     "output_type": "stream",
     "text": [
      "Requirement already satisfied: matplotlib in /home/allan/PycharmProjects/sinabs-dynapcnn/venv/lib/python3.8/site-packages (3.6.2)\n",
      "Requirement already satisfied: python-dateutil>=2.7 in /home/allan/PycharmProjects/sinabs-dynapcnn/venv/lib/python3.8/site-packages (from matplotlib) (2.8.2)\n",
      "Requirement already satisfied: numpy>=1.19 in /home/allan/PycharmProjects/sinabs-dynapcnn/venv/lib/python3.8/site-packages (from matplotlib) (1.24.0)\n",
      "Requirement already satisfied: cycler>=0.10 in /home/allan/PycharmProjects/sinabs-dynapcnn/venv/lib/python3.8/site-packages (from matplotlib) (0.11.0)\n",
      "Requirement already satisfied: fonttools>=4.22.0 in /home/allan/PycharmProjects/sinabs-dynapcnn/venv/lib/python3.8/site-packages (from matplotlib) (4.38.0)\n",
      "Requirement already satisfied: contourpy>=1.0.1 in /home/allan/PycharmProjects/sinabs-dynapcnn/venv/lib/python3.8/site-packages (from matplotlib) (1.0.6)\n",
      "Requirement already satisfied: kiwisolver>=1.0.1 in /home/allan/PycharmProjects/sinabs-dynapcnn/venv/lib/python3.8/site-packages (from matplotlib) (1.4.4)\n",
      "Requirement already satisfied: pyparsing>=2.2.1 in /home/allan/PycharmProjects/sinabs-dynapcnn/venv/lib/python3.8/site-packages (from matplotlib) (3.0.9)\n",
      "Requirement already satisfied: packaging>=20.0 in /home/allan/PycharmProjects/sinabs-dynapcnn/venv/lib/python3.8/site-packages (from matplotlib) (22.0)\n",
      "Requirement already satisfied: pillow>=6.2.0 in /home/allan/PycharmProjects/sinabs-dynapcnn/venv/lib/python3.8/site-packages (from matplotlib) (9.3.0)\n",
      "Requirement already satisfied: six>=1.5 in /home/allan/PycharmProjects/sinabs-dynapcnn/venv/lib/python3.8/site-packages (from python-dateutil>=2.7->matplotlib) (1.16.0)\n"
     ]
    }
   ],
   "source": [
    "! pip install matplotlib"
   ]
  },
  {
   "cell_type": "code",
   "execution_count": 2,
   "metadata": {},
   "outputs": [],
   "source": [
    "import copy\n",
    "import random\n",
    "import time\n",
    "from multiprocessing import Process\n",
    "from typing import Union\n",
    "\n",
    "import matplotlib.pyplot as plt\n",
    "import samna\n",
    "import samnagui\n",
    "import torch\n",
    "from sinabs.from_torch import from_model\n",
    "from sinabs.layers.pool2d import SumPool2d\n",
    "from torch import nn\n",
    "\n",
    "from sinabs.backend.dynapcnn import DynapcnnNetwork"
   ]
  },
  {
   "cell_type": "markdown",
   "metadata": {},
   "source": [
    "## 1. Create a 1-layer CNN which can be deployed to the devkit"
   ]
  },
  {
   "cell_type": "code",
   "execution_count": 3,
   "metadata": {},
   "outputs": [],
   "source": [
    "# init a cnn it has 2 out_channels for a binary classification task\n",
    "# the input shape of this cnn is (1, 16, 16), output shape of this cnn is (2, 1, 1)\n",
    "\n",
    "input_shape = (1, 16, 16)\n",
    "\n",
    "cnn = nn.Sequential(\n",
    "    SumPool2d(kernel_size=(1, 1)),\n",
    "    nn.Conv2d(\n",
    "        in_channels=1,\n",
    "        out_channels=2,\n",
    "        kernel_size=(16, 16),\n",
    "        stride=(1, 1),\n",
    "        padding=(0, 0),\n",
    "        bias=False,\n",
    "    ),\n",
    "    nn.ReLU(),\n",
    ")"
   ]
  },
  {
   "attachments": {},
   "cell_type": "markdown",
   "metadata": {},
   "source": [
    "**assign the CNN layer with a handcraft weight**:\n",
    "\n",
    "The reason for designing the weights in this way is:\n",
    "\n",
    "1. We will create a bunch of fake input spikes $X[x_0, x_1, ...x_{T}]$ as the input of the devkit.\n",
    "2. for any input spike $x_{t}$ with timestamp $t$:\n",
    "\n",
    "- if $t$, if $t < 0.5 * T$, the $y$ coordinate of spike $x_t$ will be in range [0, 7], i.e. on the top-half of the input region.\n",
    "- if $t$, if $t > 0.5 * T$, the $y$ coordinate of spike $x_t$ will be in range [8, 15].i.e. on the bottom-half of the input region.\n",
    "\n",
    "3. Based on this\n",
    "- the output spike from time $0$ to $0.5 * T$ will all come from output channel #0\n",
    "- the output spike from time $0.5 * T$ to $T$ will all come from output channel #1\n",
    "\n",
    "![handcraft_weights](../../_static/using_readout_layer/handcraft_weights.png)"
   ]
  },
  {
   "cell_type": "code",
   "execution_count": 4,
   "metadata": {},
   "outputs": [],
   "source": [
    "# set handcraft weights for the CNN\n",
    "weight_ones = torch.ones(1, 8, 16, dtype=torch.float32)\n",
    "weight_zeros = torch.zeros(1, 8, 16, dtype=torch.float32)\n",
    "\n",
    "channel_1_weight = torch.cat([weight_ones, weight_zeros], dim=1).unsqueeze(0)\n",
    "channel_2_weight = torch.cat([weight_zeros, weight_ones], dim=1).unsqueeze(0)\n",
    "handcraft_weight = torch.cat([channel_1_weight, channel_2_weight], dim=0)\n",
    "\n",
    "output_cnn_lyr_id = 1\n",
    "cnn[output_cnn_lyr_id].weight.data = handcraft_weight"
   ]
  },
  {
   "cell_type": "markdown",
   "metadata": {},
   "source": [
    "Then we convert the CNN into SNN and trying to deploy it to the devkit"
   ]
  },
  {
   "cell_type": "code",
   "execution_count": 5,
   "metadata": {},
   "outputs": [],
   "source": [
    "# cnn to snn\n",
    "snn = from_model(cnn, input_shape=input_shape, batch_size=1).spiking_model\n",
    "# snn to DynapcnnNetwork\n",
    "dynapcnn_net = DynapcnnNetwork(snn=snn, input_shape=input_shape, dvs_input=False)"
   ]
  },
  {
   "attachments": {},
   "cell_type": "markdown",
   "metadata": {},
   "source": [
    "## 2. Prepare for deployment\n",
    "\n",
    "To deploy the SNN to the devkit, there are usually 3 parts you need to set up:\n",
    "\n",
    "1. **Devkit configuration**. It is an instance of the `samna.speckxx.configuration` class. It contains the configuration of the `CNN Layer`, `DVS Layer` and `Readout Layer`, those 3 parts of the devkit configuration are which we most care about.\n",
    "\n",
    "2. **Samna graph**. It defines how the data flows into and out from the devkit, then we can obtain different type of data that we need from related nodes of the graph.\n",
    "\n",
    "3. **Visualizer(optional)**. Samna provides a GUI visualizer for us to visualize: 1.the input signal of the devkit. 2.the output of the devkit. 3.the real-time power consumption of the devkit.\n",
    "\n",
    "In this experiment, the samna graph is defined as below:\n",
    "\n",
    "![samna graph](../../_static/visualize_spike_count/samna_graph.png)\n",
    "\n",
    "Then we can:\n",
    "\n",
    "1. visualize the input of devkit through GUI window.\n",
    "2. visualize the spike count of the last DynapCNN layer through GUI window.\n",
    "3. Get data from last DynapCNN layer.\n",
    "\n",
    "### Notice\n",
    "\n",
    "**Make sure your devkit is plugged in your PC when running the experiment codes below**"
   ]
  },
  {
   "cell_type": "markdown",
   "metadata": {},
   "source": [
    "### 2.1 Create devkit configuration"
   ]
  },
  {
   "cell_type": "code",
   "execution_count": 6,
   "metadata": {},
   "outputs": [
    {
     "name": "stdout",
     "output_type": "stream",
     "text": [
      "Network is valid\n"
     ]
    }
   ],
   "source": [
    "# init devkit config\n",
    "devkit_cfg = dynapcnn_net.make_config(device=\"speck2edevkit:0\")\n",
    "\n",
    "# ========== modify devkit config ==========\n",
    "\n",
    "\"\"\"cnn layers configuration\"\"\"\n",
    "# send to output spike from cnn output layer to readout layer as its input\n",
    "cnn_output_layer = dynapcnn_net.chip_layers_ordering[-1]\n",
    "devkit_cfg.cnn_layers[cnn_output_layer].monitor_enable = True\n",
    "\n",
    "\n",
    "\"\"\"dvs layer configuration\"\"\"\n",
    "# link the dvs layer to the 1st layer of the cnn layers\n",
    "devkit_cfg.dvs_layer.destinations[0].enable = True\n",
    "devkit_cfg.dvs_layer.destinations[0].layer = dynapcnn_net.chip_layers_ordering[0]\n",
    "# merge the polarity of input events\n",
    "devkit_cfg.dvs_layer.merge = True\n",
    "# drop the raw input events from the dvs sensor, since we write events to devkit manually\n",
    "devkit_cfg.dvs_layer.pass_sensor_events = False\n",
    "# enable monitoring the output from dvs pre-preprocessing layer\n",
    "devkit_cfg.dvs_layer.monitor_enable = True"
   ]
  },
  {
   "cell_type": "markdown",
   "metadata": {},
   "source": [
    "### 2.2 Construct samna graph"
   ]
  },
  {
   "cell_type": "code",
   "execution_count": 7,
   "metadata": {},
   "outputs": [
    {
     "name": "stdout",
     "output_type": "stream",
     "text": [
      "Open device: Speck2eDevKit\n"
     ]
    }
   ],
   "source": [
    "# open devkit\n",
    "device_names = [each.device_type_name for each in samna.device.get_all_devices()]\n",
    "print(f\"Open device: {device_names[0]}\")\n",
    "devkit = samna.device.open_device(device_names[0])"
   ]
  },
  {
   "cell_type": "code",
   "execution_count": 8,
   "metadata": {},
   "outputs": [
    {
     "data": {
      "text/plain": [
       "True"
      ]
     },
     "execution_count": 8,
     "metadata": {},
     "output_type": "execute_result"
    }
   ],
   "source": [
    "# init the graph\n",
    "samna_graph = samna.graph.EventFilterGraph()\n",
    "\n",
    "\n",
    "# init necessary nodes in samna graph\n",
    "# node for writing fake inputs into devkit\n",
    "input_buffer_node = samna.BasicSourceNode_speck2e_event_speck2e_input_event()\n",
    "# node for reading Spike(i.e. the output from last CNN layer)\n",
    "spike_buffer_node = samna.BasicSinkNode_speck2e_event_output_event()\n",
    "\n",
    "\n",
    "# build input branch for graph\n",
    "samna_graph.sequential([input_buffer_node, devkit.get_model_sink_node()])\n",
    "\n",
    "# build output branches for graph\n",
    "# branch #1: for the dvs input visualization\n",
    "_, _, streamer = samna_graph.sequential(\n",
    "    [devkit.get_model_source_node(), \"Speck2eDvsToVizConverter\", \"VizEventStreamer\"]\n",
    ")\n",
    "# branch #2: for the spike count plot (first divide spike events into groups by class, then count spike events per class)\n",
    "_, spike_collection_filter, spike_count_filter, _ = samna_graph.sequential(\n",
    "    [\n",
    "        devkit.get_model_source_node(),\n",
    "        \"Speck2eSpikeCollectionNode\",\n",
    "        \"Speck2eSpikeCountNode\",\n",
    "        streamer,\n",
    "    ]\n",
    ")\n",
    "# branch #3: for obtaining the output Spike from cnn output layer\n",
    "_, type_filter_node_spike, _ = samna_graph.sequential(\n",
    "    [devkit.get_model_source_node(), \"Speck2eOutputEventTypeFilter\", spike_buffer_node]\n",
    ")\n",
    "\n",
    "\n",
    "# set the streamer nodes of the graph\n",
    "# tcp communication port for dvs input data visualization\n",
    "streamer_endpoint = \"tcp://0.0.0.0:40009\"\n",
    "streamer.set_streamer_endpoint(streamer_endpoint)\n",
    "# add desired type for filter node\n",
    "type_filter_node_spike.set_desired_type(\"speck2e::event::Spike\")\n",
    "# add configurations for spike collection and counting filters\n",
    "time_interval = 50\n",
    "labels = [\"0\", \"1\"]  # a list that contains the names of output classes\n",
    "num_of_classes = len(labels)\n",
    "spike_collection_filter.set_interval_milli_sec(\n",
    "    time_interval\n",
    ")  # divide according to this time period in milliseconds.\n",
    "spike_count_filter.set_feature_count(num_of_classes)  # number of output classes\n",
    "\n",
    "\n",
    "# start samna graph before using the devkit\n",
    "samna_graph.start()"
   ]
  },
  {
   "cell_type": "markdown",
   "metadata": {},
   "source": [
    "### 2.3 Set up visualizer"
   ]
  },
  {
   "cell_type": "code",
   "execution_count": 9,
   "metadata": {},
   "outputs": [
    {
     "name": "stdout",
     "output_type": "stream",
     "text": [
      "sender_endpoint: tcp://0.0.0.0:47907\n",
      "receiver_endpoint: tcp://0.0.0.0:33551\n"
     ]
    }
   ],
   "source": [
    "# init samna node for tcp transmission\n",
    "samna_node = samna.init_samna()\n",
    "sender_endpoint = samna_node.get_sender_endpoint()\n",
    "receiver_endpoint = samna_node.get_receiver_endpoint()\n",
    "visualizer_id = 3\n",
    "time.sleep(1)  # wait tcp connection build up, this is necessary to open remote node."
   ]
  },
  {
   "cell_type": "code",
   "execution_count": 10,
   "metadata": {},
   "outputs": [],
   "source": [
    "# define a function that run the GUI visualizer in the sub-process\n",
    "def run_visualizer(receiver_endpoint, sender_endpoint, visualizer_id):\n",
    "    samnagui.runVisualizer(0.6, 0.6, receiver_endpoint, sender_endpoint, visualizer_id)\n",
    "\n",
    "    return"
   ]
  },
  {
   "cell_type": "code",
   "execution_count": 11,
   "metadata": {},
   "outputs": [
    {
     "name": "stdout",
     "output_type": "stream",
     "text": [
      "GUI process started, you should see a window pop up!\n",
      "successful connect the GUI visualizer!\n"
     ]
    }
   ],
   "source": [
    "# create the subprocess\n",
    "gui_process = Process(\n",
    "    target=run_visualizer, args=(receiver_endpoint, sender_endpoint, visualizer_id)\n",
    ")\n",
    "gui_process.start()\n",
    "print(\"GUI process started, you should see a window pop up!\")\n",
    "\n",
    "# wait for open visualizer and connect to it.\n",
    "timeout = 10\n",
    "begin = time.time()\n",
    "name = \"visualizer\" + str(visualizer_id)\n",
    "while time.time() - begin < timeout:\n",
    "    try:\n",
    "        time.sleep(0.05)\n",
    "        samna.open_remote_node(visualizer_id, name)\n",
    "\n",
    "    except:\n",
    "        continue\n",
    "\n",
    "    else:\n",
    "        visualizer = getattr(samna, name)\n",
    "        print(f\"successful connect the GUI visualizer!\")\n",
    "        break"
   ]
  },
  {
   "cell_type": "code",
   "execution_count": 12,
   "metadata": {},
   "outputs": [
    {
     "name": "stdout",
     "output_type": "stream",
     "text": [
      "now you should see a change on the GUI window!\n"
     ]
    }
   ],
   "source": [
    "# set up the visualizer and GUI layout\n",
    "\n",
    "# set visualizer's receiver endpoint to streamer's sender endpoint for tcp communication\n",
    "visualizer.receiver.set_receiver_endpoint(streamer_endpoint)\n",
    "# connect the receiver output to splitter inside the visualizer\n",
    "visualizer.receiver.add_destination(visualizer.splitter.get_input_channel())\n",
    "\n",
    "# add plots to gui\n",
    "activity_plot_id = visualizer.plots.add_activity_plot(128, 128, \"DVS Layer\")\n",
    "plot = visualizer.plot_0\n",
    "plot.set_layout(0, 0, 0.5, 1.0)\n",
    "\n",
    "# add spike count plot to gui\n",
    "spike_count_id = visualizer.plots.add_spike_count_plot(\n",
    "    \"Spike Count\", num_of_classes, labels\n",
    ")\n",
    "plot = visualizer.plot_1\n",
    "plot.set_layout(0.5, 0.5, 1, 1)\n",
    "plot.set_show_x_span(10)  # set the range of x axis\n",
    "plot.set_label_interval(1.0)  # set the x axis label interval\n",
    "plot.set_max_y_rate(\n",
    "    1.2\n",
    ")  # set the y axis max value according to the max value of all actual values.\n",
    "plot.set_show_point_circle(True)  # if show a circle of every point.\n",
    "plot.set_default_y_max(\n",
    "    10\n",
    ")  # set the default y axis max value when all points value is zero.\n",
    "\n",
    "visualizer.splitter.add_destination(\n",
    "    \"dvs_event\", visualizer.plots.get_plot_input(activity_plot_id)\n",
    ")\n",
    "visualizer.splitter.add_destination(\n",
    "    \"spike_count\", visualizer.plots.get_plot_input(spike_count_id)\n",
    ")\n",
    "visualizer.plots.report()\n",
    "\n",
    "print(\"now you should see a change on the GUI window!\")"
   ]
  },
  {
   "cell_type": "markdown",
   "metadata": {},
   "source": [
    "## 3. Start Visualization"
   ]
  },
  {
   "cell_type": "markdown",
   "metadata": {},
   "source": [
    "### 3.1 Create fake input for devkit"
   ]
  },
  {
   "cell_type": "code",
   "execution_count": 13,
   "metadata": {},
   "outputs": [],
   "source": [
    "def create_fake_input_events(time_sec: int, data_rate: int = 1000):\n",
    "    \"\"\"\n",
    "    Args:\n",
    "        time_sec: how long is the input events\n",
    "        data_rate: how many input events generated in 1 second\n",
    "\n",
    "        During the first half time, it generates events where y coordinate only in range[0, 7] which means top half\n",
    "        region of the input feature map.\n",
    "\n",
    "        Then in the last half of time, it generates events where y coordinate only in range[8, 15] which means bottom\n",
    "        half region of the input feature map.\n",
    "\n",
    "    \"\"\"\n",
    "\n",
    "    time_offset_micro_sec = 5000  # make the timestamp start from 5000\n",
    "    time_micro_sec = time_sec * 1000000  # timestamp unit is micro-second\n",
    "    time_stride = 1000000 // data_rate\n",
    "\n",
    "    half_time = time_micro_sec // 2\n",
    "\n",
    "    events = []\n",
    "    for time_stamp in range(\n",
    "        time_offset_micro_sec, time_micro_sec + time_offset_micro_sec + 1, time_stride\n",
    "    ):\n",
    "        spk = samna.speck2e.event.DvsEvent()\n",
    "        spk.timestamp = time_stamp\n",
    "        spk.p = random.randint(0, 1)\n",
    "        spk.x = random.randint(0, 15)\n",
    "\n",
    "        if time_stamp < half_time:\n",
    "            spk.y = random.randint(\n",
    "                0, 7\n",
    "            )  # spike located in top half of the input region\n",
    "        else:\n",
    "            spk.y = random.randint(\n",
    "                8, 15\n",
    "            )  # spike located in bottom half of the input region\n",
    "\n",
    "        events.append(spk)\n",
    "\n",
    "    return events"
   ]
  },
  {
   "cell_type": "code",
   "execution_count": 14,
   "metadata": {},
   "outputs": [
    {
     "name": "stdout",
     "output_type": "stream",
     "text": [
      "number of fake input spikes: 25001\n"
     ]
    }
   ],
   "source": [
    "# create fake input events\n",
    "input_time_length = 5  # seconds\n",
    "data_rate = 5000\n",
    "input_events = create_fake_input_events(time_sec=input_time_length, data_rate=data_rate)\n",
    "\n",
    "print(f\"number of fake input spikes: {len(input_events)}\")"
   ]
  },
  {
   "cell_type": "markdown",
   "metadata": {},
   "source": [
    "### 3.2 Write into the fake input and visualize the spike count of output"
   ]
  },
  {
   "cell_type": "code",
   "execution_count": 15,
   "metadata": {},
   "outputs": [],
   "source": [
    "# apply the config to devkit\n",
    "devkit.get_model().apply_configuration(devkit_cfg)\n",
    "time.sleep(0.1)"
   ]
  },
  {
   "cell_type": "code",
   "execution_count": 16,
   "metadata": {},
   "outputs": [
    {
     "name": "stdout",
     "output_type": "stream",
     "text": [
      "You should see the input events through the GUI window as well as the spike count of output!\n"
     ]
    }
   ],
   "source": [
    "# write the fake input into the devkit\n",
    "\n",
    "# enable & reset the stop-watch of devkit, this is mainly for the timestamp processing for the input&output events.\n",
    "stop_watch = devkit.get_stop_watch()\n",
    "stop_watch.set_enable_value(True)\n",
    "stop_watch.reset()\n",
    "time.sleep(0.01)\n",
    "\n",
    "# clear output buffer\n",
    "spike_buffer_node.get_events()\n",
    "\n",
    "# write through the input buffer node\n",
    "input_time_length = (input_events[-1].timestamp - input_events[0].timestamp) / 1e6\n",
    "input_buffer_node.write(input_events)\n",
    "# sleep till all input events is sent and processed\n",
    "time.sleep(input_time_length + 0.02)\n",
    "\n",
    "# get the output events from last DynapCNN Layer\n",
    "dynapcnn_layer_events = spike_buffer_node.get_events()\n",
    "\n",
    "print(\n",
    "    \"You should see the input events through the GUI window as well as the spike count of output!\"\n",
    ")"
   ]
  },
  {
   "attachments": {},
   "cell_type": "markdown",
   "metadata": {},
   "source": [
    "The visualization of spike count is just like:\n",
    "\n",
    "![spike count visualization](../../_static/visualize_spike_count/spike_count.png)"
   ]
  },
  {
   "cell_type": "markdown",
   "metadata": {},
   "source": [
    "### 3.3 Check the output from DynapCNN Layer"
   ]
  },
  {
   "cell_type": "code",
   "execution_count": 17,
   "metadata": {},
   "outputs": [
    {
     "name": "stdout",
     "output_type": "stream",
     "text": [
      "number of fake input spikes: 25001\n",
      "number of output spikes from DynacpCNN Layer: 25001\n"
     ]
    },
    {
     "data": {
      "text/plain": [
       "Text(0.5, 1.0, 'OutputSpike')"
      ]
     },
     "execution_count": 17,
     "metadata": {},
     "output_type": "execute_result"
    },
    {
     "data": {
      "image/png": "[encoded data removed]",
      "text/plain": [
       "<Figure size 640x480 with 1 Axes>"
      ]
     },
     "metadata": {},
     "output_type": "display_data"
    }
   ],
   "source": [
    "print(f\"number of fake input spikes: {len(input_events)}\")\n",
    "print(f\"number of output spikes from DynacpCNN Layer: {len(dynapcnn_layer_events)}\")\n",
    "\n",
    "# get the timestamp of the output event\n",
    "spike_timestamp = [each.timestamp for each in dynapcnn_layer_events]\n",
    "# shift timestep starting from 0\n",
    "start_t = spike_timestamp[0]\n",
    "spike_timestamp = [each - start_t for each in spike_timestamp]\n",
    "\n",
    "# get the neuron index of each output spike\n",
    "neuron_id = [each.feature for each in dynapcnn_layer_events]\n",
    "\n",
    "\n",
    "# plot the output neuron index vs. time\n",
    "fig, ax = plt.subplots()\n",
    "ax.scatter(spike_timestamp, neuron_id)\n",
    "ax.set(xlim=(0, input_time_length * 1e6), ylim=(-0.5, 1.5))\n",
    "ax.set_xlabel(\"time( micro sec)\")\n",
    "ax.set_ylabel(\"neuron index\")\n",
    "ax.set_title(\"OutputSpike\")"
   ]
  },
  {
   "cell_type": "code",
   "execution_count": 18,
   "metadata": {},
   "outputs": [],
   "source": [
    "# stop devkit when experiment finished.\n",
    "\n",
    "gui_process.terminate()\n",
    "gui_process.join()\n",
    "\n",
    "samna_graph.stop()\n",
    "samna.device.close_device(devkit)"
   ]
  }
 ],
 "metadata": {
  "kernelspec": {
   "display_name": "Python 3 (ipykernel)",
   "language": "python",
   "name": "python3"
  },
  "language_info": {
   "codemirror_mode": {
    "name": "ipython",
    "version": 3
   },
   "file_extension": ".py",
   "mimetype": "text/x-python",
   "name": "python",
   "nbconvert_exporter": "python",
   "pygments_lexer": "ipython3",
   "version": "3.8.0"
  },
  "vscode": {
   "interpreter": {
    "hash": "33f5b7c50f4bdb049e667c33bbeedb82b4b180db120991b3ccebc566ce30a6a2"
   }
  }
 },
 "nbformat": 4,
 "nbformat_minor": 1
}
