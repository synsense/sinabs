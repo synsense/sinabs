{
 "cells": [
  {
   "cell_type": "markdown",
   "metadata": {},
   "source": [
    "# Change activations in spiking layers\n",
    "Sometimes it's helpful to change spiking, membrane reset or backpropagation behaviour. Let's look at a few examples based on the Integrate and Fire (IAF) layer."
   ]
  },
  {
   "cell_type": "code",
   "execution_count": null,
   "metadata": {},
   "outputs": [],
   "source": [
    "import torch\n",
    "import torch.nn as nn\n",
    "import sinabs\n",
    "import sinabs.layers as sl\n",
    "import sinabs.activation as sina\n",
    "import matplotlib.pyplot as plt\n",
    "import numpy as np"
   ]
  },
  {
   "cell_type": "markdown",
   "metadata": {},
   "source": [
    "We define a utility plotting function."
   ]
  },
  {
   "cell_type": "code",
   "execution_count": null,
   "metadata": {},
   "outputs": [],
   "source": [
    "def plot_evolution(neuron_model: sinabs.layers, input: torch.Tensor):\n",
    "    neuron_model.reset_states()\n",
    "    v_mem = []\n",
    "    spikes = []\n",
    "    for step in range(input.shape[1]):\n",
    "        output = neuron_model(input[:, step])\n",
    "        v_mem.append(neuron_model.v_mem)\n",
    "        spikes.append(output)\n",
    "\n",
    "    plt.figure(figsize=(10, 3))\n",
    "    v_mem = torch.cat(v_mem).detach().numpy()\n",
    "    plt.plot(v_mem, drawstyle=\"steps\", label=\"v_mem\")\n",
    "\n",
    "    spikes = torch.cat(spikes).detach().numpy()\n",
    "    plt.plot(spikes, label=\"output\", drawstyle=\"steps\", color=\"black\")\n",
    "\n",
    "    plt.xlabel(\"time\")\n",
    "    plt.title(\n",
    "        f\"{neuron_model.__class__.__name__} neuron dynamics with {neuron_model.spike_fn.__name__} and {neuron_model.reset_fn.__class__.__name__}.\"\n",
    "    )\n",
    "    plt.legend()"
   ]
  },
  {
   "cell_type": "markdown",
   "metadata": {},
   "source": [
    "## Single or Multi spike\n",
    "Let's start by injecting a current 2.5 higher than the spike threshold. If the neuron uses a SingleSpike spike function, only a single spike can be emitted per time step. In combination with a MembraneSubtract reset function, which subtracts the spiking threshold for each spike, the neuron emits 2 spikes over 2 time steps and then is left with the remaining 0.5 as membrane potential."
   ]
  },
  {
   "cell_type": "code",
   "execution_count": null,
   "metadata": {},
   "outputs": [],
   "source": [
    "iaf_neuron = sl.IAF(\n",
    "    spike_threshold=1.0, spike_fn=sina.SingleSpike, reset_fn=sina.MembraneSubtract()\n",
    ")\n",
    "single_current = torch.zeros((1, 10, 1))\n",
    "single_current[:, 5] = 2.5\n",
    "plot_evolution(iaf_neuron, single_current)"
   ]
  },
  {
   "cell_type": "markdown",
   "metadata": {},
   "source": [
    "Here is the same input but now we changed the spike function to MultiSpike. The two spikes will now be emitted within a single time step. What would be the motivation for multiple spikes per time step? When discretizing a continuous input in time, the assumption of a single spike per time bin might get inaccurate. When reducing the number of time steps, potentially multiple spikes per bin reduces temporal quantisation error."
   ]
  },
  {
   "cell_type": "code",
   "execution_count": null,
   "metadata": {},
   "outputs": [],
   "source": [
    "iaf_neuron = sl.IAF(\n",
    "    spike_threshold=1.0, spike_fn=sina.MultiSpike, reset_fn=sina.MembraneSubtract()\n",
    ")\n",
    "plot_evolution(iaf_neuron, single_current)"
   ]
  },
  {
   "cell_type": "markdown",
   "metadata": {},
   "source": [
    "## Membrane reset instead of subtract\n",
    "Alternatively we can also reset the membrane potential to 0 after each spike, no matter the output. Keep in mind that the input current is still 2.5 times the spike threshold so we'll lose some information by doing that."
   ]
  },
  {
   "cell_type": "code",
   "execution_count": null,
   "metadata": {},
   "outputs": [],
   "source": [
    "iaf_neuron = sl.IAF(\n",
    "    spike_threshold=1.0, spike_fn=sina.MultiSpike, reset_fn=sina.MembraneReset()\n",
    ")\n",
    "plot_evolution(iaf_neuron, single_current)"
   ]
  },
  {
   "cell_type": "markdown",
   "metadata": {},
   "source": [
    "## Surrogate gradient functions\n",
    "What follows is a very brief demonstration of surrogate gradients in SNNs. We feed a constant input current to a single neuron with a trainable weight and get a number of output spikes."
   ]
  },
  {
   "cell_type": "code",
   "execution_count": null,
   "metadata": {},
   "outputs": [],
   "source": [
    "const_current = torch.ones((1, 100, 1)) * 0.03\n",
    "\n",
    "torch.manual_seed(12345)\n",
    "\n",
    "neuron = nn.Sequential(\n",
    "    nn.Linear(1, 1, bias=False),\n",
    "    sl.IAF(spike_threshold=1.0),\n",
    ")\n",
    "\n",
    "print(f\"Sum of spikes: {neuron(const_current).sum()}\")"
   ]
  },
  {
   "cell_type": "markdown",
   "metadata": {},
   "source": [
    "We define a loss function and a target sum of spikes of 5. This convex function is well suited for modern day optimizers."
   ]
  },
  {
   "cell_type": "code",
   "execution_count": null,
   "metadata": {},
   "outputs": [],
   "source": [
    "criterion = nn.functional.mse_loss\n",
    "target_firing_rate = torch.tensor(5.0)\n",
    "\n",
    "losses = [criterion(target_firing_rate, torch.tensor(i)) for i in range(11)]\n",
    "\n",
    "plt.plot(losses)\n",
    "plt.title(\"Loss function for target firing rate 5\")\n",
    "plt.ylabel(\"Loss\")\n",
    "plt.xlabel(\"Output firing rate\");"
   ]
  },
  {
   "cell_type": "markdown",
   "metadata": {},
   "source": [
    "Now we sweep the loss with respect to different weights. You see that there are ranges of weight values that all have the same loss value, because the output of the network with its spike activation is highly non-linear. The gradients of this function unfortunately are mostly zero, which makes gradient descent difficult in this scenario."
   ]
  },
  {
   "cell_type": "code",
   "execution_count": null,
   "metadata": {},
   "outputs": [],
   "source": [
    "losses = []\n",
    "\n",
    "weights = torch.linspace(0, 3, 1000)\n",
    "for w in weights:\n",
    "    neuron[0].weight = nn.Parameter(w.unsqueeze(0).unsqueeze(0))\n",
    "\n",
    "    neuron[1].reset_states()\n",
    "    output_sum = neuron(const_current).sum()\n",
    "\n",
    "    losses.append(criterion(target_firing_rate, output_sum).item())\n",
    "\n",
    "plt.plot(weights, losses, label=\"loss\")\n",
    "plt.plot(weights, np.gradient(losses), label=\"derivative of loss\")\n",
    "plt.title(\"Loss function with respect to neuron weight.\")\n",
    "plt.xlabel(\"weight value of our IAF neuron\")\n",
    "plt.legend();"
   ]
  },
  {
   "cell_type": "markdown",
   "metadata": {},
   "source": [
    "The gradients are zero nearly everywhere, which makes it very difficult to optimise. The reason for this is the non-linear activation function of each spiking neuron, which is a function of membrane potential. In the case of SingleSpike, it is the Heaviside function."
   ]
  },
  {
   "cell_type": "code",
   "execution_count": null,
   "metadata": {},
   "outputs": [],
   "source": [
    "v_mem = torch.linspace(-0.5, 3.5, 500, requires_grad=True)\n",
    "\n",
    "spike_threshold = 1.0\n",
    "activations_singlespike = sina.SingleSpike.apply(\n",
    "    v_mem, spike_threshold, sina.MultiGaussian()\n",
    ")\n",
    "activations_multispike = sina.MultiSpike.apply(\n",
    "    v_mem, spike_threshold, sina.MultiGaussian()\n",
    ")\n",
    "\n",
    "plt.plot(\n",
    "    v_mem.detach(), activations_singlespike.detach(), label=\"SingleSpike activation fn\"\n",
    ")\n",
    "plt.plot(\n",
    "    v_mem.detach(), activations_multispike.detach(), label=\"MultiSpike activation fn\"\n",
    ")\n",
    "plt.plot(\n",
    "    v_mem.detach(),\n",
    "    np.gradient(activations_singlespike.detach()),\n",
    "    label=\"derivative of SingleSpike\",\n",
    ")\n",
    "\n",
    "plt.title(\"Output as a function of membrane potential.\")\n",
    "plt.xlabel(\"Membrane potential v_mem\")\n",
    "plt.ylabel(\"output activation\")\n",
    "plt.legend();"
   ]
  },
  {
   "cell_type": "markdown",
   "metadata": {},
   "source": [
    "If we replace the derivate of that activation function (green line above) with a surrogate gradient function, we will get better results. Here is a plot of a few of those."
   ]
  },
  {
   "cell_type": "code",
   "execution_count": null,
   "metadata": {},
   "outputs": [],
   "source": [
    "x = torch.linspace(-0.5, 3.5, 500)\n",
    "plt.plot(x, sina.Heaviside(window=0.5)(v_mem=x, spike_threshold=1.0), label=\"Heaviside\")\n",
    "plt.plot(x, sina.MultiGaussian()(v_mem=x, spike_threshold=1.0), label=\"MultiGaussian\")\n",
    "plt.plot(\n",
    "    x, sina.SingleExponential()(v_mem=x, spike_threshold=1.0), label=\"SingleExponential\"\n",
    ")\n",
    "\n",
    "plt.xlabel(\"Membrane potential v_mem\")\n",
    "plt.ylabel(\"derivative of output activation\")\n",
    "plt.legend();"
   ]
  },
  {
   "cell_type": "markdown",
   "metadata": {},
   "source": [
    "Further up we already defined MultiGaussian as our surrogate gradient function. Let's see how our new surrogate gradients and surrogate activation function look like."
   ]
  },
  {
   "cell_type": "code",
   "execution_count": null,
   "metadata": {},
   "outputs": [],
   "source": [
    "activations_singlespike.backward(v_mem)"
   ]
  },
  {
   "cell_type": "code",
   "execution_count": null,
   "metadata": {},
   "outputs": [],
   "source": [
    "plt.figure()\n",
    "plt.plot(\n",
    "    v_mem.detach(), activations_singlespike.detach(), label=\"SingleSpike activation fn\"\n",
    ")\n",
    "plt.plot(\n",
    "    v_mem.detach(),\n",
    "    np.gradient(activations_singlespike.detach()),\n",
    "    label=\"derivative of SingleSpike\",\n",
    ")\n",
    "plt.plot(v_mem.detach(), v_mem.grad.detach(), label=\"MultiGaussian surrogate deriv.\")\n",
    "plt.title(\"Single spike activation, derivative and surrogate derivative\")\n",
    "plt.xlabel(\"Membrane potential v_mem\")\n",
    "plt.legend();"
   ]
  },
  {
   "cell_type": "markdown",
   "metadata": {},
   "source": [
    "When we accumulate those surrogate gradients, we can reconstruct our surrogate activation function."
   ]
  },
  {
   "cell_type": "code",
   "execution_count": null,
   "metadata": {},
   "outputs": [],
   "source": [
    "surrogate = np.cumsum(\n",
    "    v_mem.grad.detach().flatten() * (v_mem[1] - v_mem[0]).detach().item()\n",
    ")\n",
    "plt.plot(v_mem.detach(), surrogate, label=\"Reconstructed surrogate activation\")\n",
    "plt.plot(\n",
    "    v_mem.detach(), activations_singlespike.detach(), label=\"SingleSpike Heaviside\"\n",
    ")\n",
    "plt.title(\"Surrogate activation function vs. SingleSpike Heaviside function\")\n",
    "plt.xlabel(\"Membrane potential v_mem\")\n",
    "plt.ylabel(\"Output activation\")\n",
    "plt.legend();"
   ]
  },
  {
   "cell_type": "code",
   "execution_count": null,
   "metadata": {},
   "outputs": [],
   "source": []
  }
 ],
 "metadata": {
  "kernelspec": {
   "display_name": "Python 3.9.7 ('base')",
   "language": "python",
   "name": "python3"
  },
  "language_info": {
   "codemirror_mode": {
    "name": "ipython",
    "version": 3
   },
   "file_extension": ".py",
   "mimetype": "text/x-python",
   "name": "python",
   "nbconvert_exporter": "python",
   "pygments_lexer": "ipython3",
   "version": "3.9.7"
  },
  "vscode": {
   "interpreter": {
    "hash": "65b6f4b806bbaf5b54d6ccaa27abf7e5307b1f0e4411e9da36d5256169cebdd7"
   }
  }
 },
 "nbformat": 4,
 "nbformat_minor": 2
}
