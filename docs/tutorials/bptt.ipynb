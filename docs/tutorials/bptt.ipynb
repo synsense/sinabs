{
 "cells": [
  {
   "cell_type": "markdown",
   "metadata": {},
   "source": [
    "# Training by backpropagation through time (BPTT)\n",
    "\n",
    "BPTT is normally a procedure used while training recurrent neural networks. In the case of spiking networks, even if the network is not recurrent, it has a memory of its previous processing steps through the persistence of membrane potentials. Unlike normal neural networks, spiking networks have an internal state that lasts in time.\n",
    "\n",
    "This is why BPTT can be used for more precise (but also much more computationally expensive) training in SNNs  for sequential tasks.\n",
    "In sinabs, backpropagation in the spiking network is accomplished through a surrogate gradient method, since the spiking nonlinearity is not differentiable.\n",
    "\n",
    "In this notebook, we will train a spiking network directly (without training an analog network first), on the Sequential MNIST task. In Sequential MNIST, a network is shown the 28x28-pixel MNIST digits one row after the other. The input to the network is a single row of 28 pixels, followed by the second one, etc, until all 28 rows are shown. At this point, the network makes a prediction on the digit label.\n",
    "\n",
    "First, we define the MNIST dataset. Note that pixel values are between 0 and 1. We turn those values into probabilities of spiking."
   ]
  },
  {
   "cell_type": "code",
   "execution_count": 1,
   "metadata": {},
   "outputs": [],
   "source": [
    "from torchvision import datasets\n",
    "import torch\n",
    "\n",
    "torch.manual_seed(0)\n",
    "\n",
    "\n",
    "class MNIST(datasets.MNIST):\n",
    "    def __init__(self, root, train=True, single_channel=False):\n",
    "        datasets.MNIST.__init__(self, root, train=train, download=True)\n",
    "        self.single_channel = single_channel\n",
    "\n",
    "    def __getitem__(self, index):\n",
    "        img, target = self.data[index], self.targets[index]\n",
    "        img = img.float() / 255.0\n",
    "\n",
    "        # default is  by row, output is [time, channels] = [28, 28]\n",
    "        # OR if we want by single item, output is [784, 1]\n",
    "        if self.single_channel:\n",
    "            img = img.reshape(-1).unsqueeze(1)\n",
    "\n",
    "        spikes = torch.rand(size=img.shape) < img\n",
    "        spikes = spikes.float()\n",
    "\n",
    "        return spikes, target"
   ]
  },
  {
   "cell_type": "code",
   "execution_count": 2,
   "metadata": {},
   "outputs": [
    {
     "name": "stdout",
     "output_type": "stream",
     "text": [
      "Downloading http://yann.lecun.com/exdb/mnist/train-images-idx3-ubyte.gz\n",
      "Downloading http://yann.lecun.com/exdb/mnist/train-images-idx3-ubyte.gz to ./data/MNIST/raw/train-images-idx3-ubyte.gz\n"
     ]
    },
    {
     "data": {
      "application/vnd.jupyter.widget-view+json": {
       "model_id": "8bdcd134448144c8a82167904008db0e",
       "version_major": 2,
       "version_minor": 0
      },
      "text/plain": [
       "  0%|          | 0/9912422 [00:00<?, ?it/s]"
      ]
     },
     "metadata": {},
     "output_type": "display_data"
    },
    {
     "name": "stdout",
     "output_type": "stream",
     "text": [
      "Extracting ./data/MNIST/raw/train-images-idx3-ubyte.gz to ./data/MNIST/raw\n",
      "\n",
      "Downloading http://yann.lecun.com/exdb/mnist/train-labels-idx1-ubyte.gz\n",
      "Downloading http://yann.lecun.com/exdb/mnist/train-labels-idx1-ubyte.gz to ./data/MNIST/raw/train-labels-idx1-ubyte.gz\n"
     ]
    },
    {
     "data": {
      "application/vnd.jupyter.widget-view+json": {
       "model_id": "c6c5622c29f446f69415596cadab9061",
       "version_major": 2,
       "version_minor": 0
      },
      "text/plain": [
       "  0%|          | 0/28881 [00:00<?, ?it/s]"
      ]
     },
     "metadata": {},
     "output_type": "display_data"
    },
    {
     "name": "stdout",
     "output_type": "stream",
     "text": [
      "Extracting ./data/MNIST/raw/train-labels-idx1-ubyte.gz to ./data/MNIST/raw\n",
      "\n",
      "Downloading http://yann.lecun.com/exdb/mnist/t10k-images-idx3-ubyte.gz\n",
      "Downloading http://yann.lecun.com/exdb/mnist/t10k-images-idx3-ubyte.gz to ./data/MNIST/raw/t10k-images-idx3-ubyte.gz\n"
     ]
    },
    {
     "data": {
      "application/vnd.jupyter.widget-view+json": {
       "model_id": "d4e2703fc19c4a5c8809d7e8c674643e",
       "version_major": 2,
       "version_minor": 0
      },
      "text/plain": [
       "  0%|          | 0/1648877 [00:00<?, ?it/s]"
      ]
     },
     "metadata": {},
     "output_type": "display_data"
    },
    {
     "name": "stdout",
     "output_type": "stream",
     "text": [
      "Extracting ./data/MNIST/raw/t10k-images-idx3-ubyte.gz to ./data/MNIST/raw\n",
      "\n",
      "Downloading http://yann.lecun.com/exdb/mnist/t10k-labels-idx1-ubyte.gz\n",
      "Downloading http://yann.lecun.com/exdb/mnist/t10k-labels-idx1-ubyte.gz to ./data/MNIST/raw/t10k-labels-idx1-ubyte.gz\n"
     ]
    },
    {
     "data": {
      "application/vnd.jupyter.widget-view+json": {
       "model_id": "875b25a1bfda44b381d208b9b6698a87",
       "version_major": 2,
       "version_minor": 0
      },
      "text/plain": [
       "  0%|          | 0/4542 [00:00<?, ?it/s]"
      ]
     },
     "metadata": {},
     "output_type": "display_data"
    },
    {
     "name": "stdout",
     "output_type": "stream",
     "text": [
      "Extracting ./data/MNIST/raw/t10k-labels-idx1-ubyte.gz to ./data/MNIST/raw\n",
      "\n"
     ]
    }
   ],
   "source": [
    "device = torch.device(\"cuda\" if torch.cuda.is_available() else \"cpu\")\n",
    "\n",
    "BATCH_SIZE = 64\n",
    "\n",
    "dataset_test = MNIST(root=\"./data/\", train=False)\n",
    "dataloader_test = torch.utils.data.DataLoader(\n",
    "    dataset_test, batch_size=BATCH_SIZE, drop_last=True\n",
    ")\n",
    "\n",
    "dataset = MNIST(root=\"./data/\", train=True)\n",
    "dataloader = torch.utils.data.DataLoader(dataset, batch_size=BATCH_SIZE, drop_last=True)"
   ]
  },
  {
   "cell_type": "markdown",
   "metadata": {},
   "source": [
    "## Training a baseline\n",
    "\n",
    "We must demonstrate that this task is not solvable with similar accuracy by a memory-less analog network, despite being sequential. Let us then try to train such a baseline."
   ]
  },
  {
   "cell_type": "code",
   "execution_count": 3,
   "metadata": {},
   "outputs": [],
   "source": [
    "from torch import nn\n",
    "\n",
    "ann = nn.Sequential(\n",
    "    nn.Linear(28, 128),\n",
    "    nn.ReLU(),\n",
    "    nn.Linear(128, 128),\n",
    "    nn.ReLU(),\n",
    "    nn.Linear(128, 256),\n",
    "    nn.ReLU(),\n",
    "    nn.Linear(256, 256),\n",
    "    nn.ReLU(),\n",
    "    nn.Linear(256, 10),\n",
    "    nn.ReLU(),\n",
    ")"
   ]
  },
  {
   "cell_type": "markdown",
   "metadata": {},
   "source": [
    "#### Training"
   ]
  },
  {
   "cell_type": "code",
   "execution_count": 4,
   "metadata": {},
   "outputs": [
    {
     "data": {
      "application/vnd.jupyter.widget-view+json": {
       "model_id": "484d93ce5c1d4742ac72eb79d90f13d0",
       "version_major": 2,
       "version_minor": 0
      },
      "text/plain": [
       "  0%|          | 0/937 [00:00<?, ?it/s]"
      ]
     },
     "metadata": {},
     "output_type": "display_data"
    },
    {
     "data": {
      "application/vnd.jupyter.widget-view+json": {
       "model_id": "8903f147fe344c1c936b9813b596149c",
       "version_major": 2,
       "version_minor": 0
      },
      "text/plain": [
       "  0%|          | 0/937 [00:00<?, ?it/s]"
      ]
     },
     "metadata": {},
     "output_type": "display_data"
    }
   ],
   "source": [
    "from tqdm.notebook import tqdm\n",
    "\n",
    "criterion = nn.CrossEntropyLoss()\n",
    "optimizer = torch.optim.Adam(ann.parameters())\n",
    "\n",
    "for epoch in range(2):\n",
    "    pbar = tqdm(dataloader)\n",
    "    for img, target in pbar:\n",
    "        optimizer.zero_grad()\n",
    "\n",
    "        target = target.unsqueeze(1).repeat([1, 28])\n",
    "        img = img.reshape([-1, 28])\n",
    "        target = target.reshape([-1])\n",
    "\n",
    "        out = ann(img)\n",
    "        #         out = out.sum(1)\n",
    "        loss = criterion(out, target)\n",
    "        loss.backward()\n",
    "        optimizer.step()\n",
    "\n",
    "        pbar.set_postfix(loss=loss.item())"
   ]
  },
  {
   "cell_type": "markdown",
   "metadata": {},
   "source": [
    "#### Testing"
   ]
  },
  {
   "cell_type": "code",
   "execution_count": 5,
   "metadata": {},
   "outputs": [
    {
     "data": {
      "application/vnd.jupyter.widget-view+json": {
       "model_id": "c146421896334358b6bb1c209e405b3c",
       "version_major": 2,
       "version_minor": 0
      },
      "text/plain": [
       "  0%|          | 0/156 [00:00<?, ?it/s]"
      ]
     },
     "metadata": {},
     "output_type": "display_data"
    },
    {
     "name": "stdout",
     "output_type": "stream",
     "text": [
      "0.4560296474358974\n"
     ]
    }
   ],
   "source": [
    "accs = []\n",
    "\n",
    "pbar = tqdm(dataloader_test)\n",
    "for img, target in pbar:\n",
    "    img = img.reshape([-1, 28])\n",
    "    out = ann(img)\n",
    "    out = out.reshape([64, 28, 10])\n",
    "    out = out.sum(1)\n",
    "\n",
    "    predicted = torch.max(out, axis=1)[1]\n",
    "    acc = (predicted == target).sum().numpy() / BATCH_SIZE\n",
    "    accs.append(acc)\n",
    "\n",
    "print(sum(accs) / len(accs))"
   ]
  },
  {
   "cell_type": "markdown",
   "metadata": {},
   "source": [
    "## Defining a spiking network\n",
    "\n",
    "We then define a 4-layer fully connected spiking neural network."
   ]
  },
  {
   "cell_type": "code",
   "execution_count": 6,
   "metadata": {},
   "outputs": [],
   "source": [
    "from sinabs.from_torch import from_model\n",
    "\n",
    "model = from_model(ann, batch_size=BATCH_SIZE).to(device)\n",
    "model = model.train()"
   ]
  },
  {
   "cell_type": "markdown",
   "metadata": {},
   "source": [
    "## Training\n",
    "\n",
    "Here, we begin training. Note that the state of the network *must* be reset at every iteration."
   ]
  },
  {
   "cell_type": "markdown",
   "metadata": {},
   "source": [
    "PyTorch convolutional layers don't support inputs that aren't 4-dimensional (batch, channels, height, width).\n",
    "\n",
    "As a workaround, when using sinabs, you'll have to *squeeze the time and batch dimensions*. Starting from data in the form (batch, time, channels, ...), the data should be squeezed to (batch*time, channels, ...).\n",
    "\n",
    "The spiking layer will automatically unpack that dimension distinguishing between batch and time, provided this convention is followed exactly, and the `batch_size=...` parameter is correctly defined for the spiking model.\n",
    "\n",
    "Here, we can see that the input dimensionality is (64, 28, 28) = (batch, time, channels):"
   ]
  },
  {
   "cell_type": "code",
   "execution_count": 7,
   "metadata": {},
   "outputs": [
    {
     "name": "stdout",
     "output_type": "stream",
     "text": [
      "torch.Size([64, 28, 28])\n"
     ]
    }
   ],
   "source": [
    "for img in dataloader:\n",
    "    print(img[0].shape)\n",
    "    break"
   ]
  },
  {
   "cell_type": "markdown",
   "metadata": {},
   "source": [
    "For this reason, in the training we included a `reshape(-1, 28)` (to squeeze the dimensions in input)\n",
    "and a `reshape((BATCH_SIZE, 28, 10))` on the output to restore the original form."
   ]
  },
  {
   "cell_type": "code",
   "execution_count": 8,
   "metadata": {},
   "outputs": [
    {
     "data": {
      "application/vnd.jupyter.widget-view+json": {
       "model_id": "15d7d7cec5b74216bb357d1a7dbc6fc7",
       "version_major": 2,
       "version_minor": 0
      },
      "text/plain": [
       "  0%|          | 0/937 [00:00<?, ?it/s]"
      ]
     },
     "metadata": {},
     "output_type": "display_data"
    }
   ],
   "source": [
    "from tqdm.notebook import tqdm\n",
    "\n",
    "criterion = nn.CrossEntropyLoss()\n",
    "optimizer = torch.optim.Adam(model.parameters())\n",
    "\n",
    "for epoch in range(1):\n",
    "    pbar = tqdm(dataloader)\n",
    "    for img, target in pbar:\n",
    "        optimizer.zero_grad()\n",
    "        model.reset_states()\n",
    "\n",
    "        img = img.reshape((-1, 28))  # merging time and batch dimensions\n",
    "        out = model.spiking_model(img.to(device))\n",
    "        out = out.reshape((BATCH_SIZE, 28, 10))  # restoring original dimensions\n",
    "\n",
    "        # the output of the network is summed over the 28 time steps (rows)\n",
    "        out = out.sum(1)\n",
    "        loss = criterion(out, target.to(device))\n",
    "        loss.backward()\n",
    "        optimizer.step()\n",
    "\n",
    "        pbar.set_postfix(loss=loss.item())"
   ]
  },
  {
   "cell_type": "markdown",
   "metadata": {},
   "source": [
    "## Testing"
   ]
  },
  {
   "cell_type": "code",
   "execution_count": 9,
   "metadata": {},
   "outputs": [
    {
     "data": {
      "application/vnd.jupyter.widget-view+json": {
       "model_id": "952a5f6c53464ded814cc37e35ca2e99",
       "version_major": 2,
       "version_minor": 0
      },
      "text/plain": [
       "  0%|          | 0/156 [00:00<?, ?it/s]"
      ]
     },
     "metadata": {},
     "output_type": "display_data"
    },
    {
     "name": "stdout",
     "output_type": "stream",
     "text": [
      "0.7990785256410257\n"
     ]
    }
   ],
   "source": [
    "accs = []\n",
    "\n",
    "pbar = tqdm(dataloader_test)\n",
    "for img, target in pbar:\n",
    "    model.reset_states()\n",
    "\n",
    "    img = img.reshape((-1, 28))  # merging time and batch dimensions\n",
    "    out = model.spiking_model(img.to(device))\n",
    "    out = out.reshape((BATCH_SIZE, 28, 10))  # restoring original dimensions\n",
    "\n",
    "    out = out.sum(1)\n",
    "    predicted = torch.max(out, axis=1)[1]\n",
    "    acc = (predicted == target.to(device)).sum().cpu().numpy() / BATCH_SIZE\n",
    "    accs.append(acc)\n",
    "\n",
    "print(sum(accs) / len(accs))"
   ]
  },
  {
   "cell_type": "markdown",
   "metadata": {},
   "source": [
    "This value, although not very high, shows as a proof of concept that the persistent state of the spiking network (the membrane potentials) can be exploited as a short-term memory for solving sequential tasks, provided the training procedure takes it into account."
   ]
  }
 ],
 "metadata": {
  "kernelspec": {
   "display_name": "Python 3.8.8 ('base')",
   "language": "python",
   "name": "python3"
  },
  "language_info": {
   "codemirror_mode": {
    "name": "ipython",
    "version": 3
   },
   "file_extension": ".py",
   "mimetype": "text/x-python",
   "name": "python",
   "nbconvert_exporter": "python",
   "pygments_lexer": "ipython3",
   "version": "3.8.8"
  },
  "vscode": {
   "interpreter": {
    "hash": "caf264bf03997fa53b380c84044763293a7a6f8ebb5555ee5243fd4d1f495be6"
   }
  }
 },
 "nbformat": 4,
 "nbformat_minor": 4
}
