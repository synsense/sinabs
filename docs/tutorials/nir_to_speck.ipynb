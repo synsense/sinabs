{
 "cells": [
  {
   "cell_type": "markdown",
   "id": "ab34e351-2d93-42a5-9548-db013a76d34f",
   "metadata": {},
   "source": [
    "# Import a model from NIR and deploy it to SPECK\n",
    "\n",
    "In this tutorial we will show how a NIR model can be deployed onto SynSense's Speck processor. \n",
    "\n",
    "We start by importing the model into sinabs and from there deploy it onto Speck. We will test the deployed model by streaming events onto the chip and reading out the predictions."
   ]
  },
  {
   "cell_type": "code",
   "execution_count": 1,
   "id": "2587ed4f-c530-4848-a5e8-ab5bc1c927ef",
   "metadata": {},
   "outputs": [],
   "source": [
    "# Import statements\n",
    "from matplotlib import pyplot as plt\n",
    "import matplotlib as mpl\n",
    "import nir\n",
    "import numpy as np\n",
    "import sinabs\n",
    "from sinabs.backend.dynapcnn import DynapcnnNetwork\n",
    "from sinabs.backend.dynapcnn.chip_factory import ChipFactory\n",
    "from statistics import mode\n",
    "import tonic\n",
    "import torch\n",
    "from tqdm.notebook import tqdm\n",
    "\n",
    "# Matplotlib settings\n",
    "plt.rcParams[\"figure.figsize\"] = (10, 6)\n",
    "plt.rcParams[\"font.size\"] = 20"
   ]
  },
  {
   "cell_type": "markdown",
   "id": "9667da52-2972-44ad-814a-126a65f75eae",
   "metadata": {},
   "source": [
    "## Load NIR model from disk"
   ]
  },
  {
   "cell_type": "code",
   "execution_count": 2,
   "id": "34f5a55e-3f3c-43d9-81ff-c538d8d06412",
   "metadata": {},
   "outputs": [],
   "source": [
    "model_path = \"scnn_mnist.nir\"\n",
    "nir_model = nir.read(model_path)"
   ]
  },
  {
   "cell_type": "markdown",
   "id": "fd2a6fdd-4666-48c5-9d2b-afedcf80e256",
   "metadata": {},
   "source": [
    "## Load NIR model into sinabs\n",
    "\n",
    "Loading a NIR model into sinabs is fairly easy: It's literally one line of code."
   ]
  },
  {
   "cell_type": "code",
   "execution_count": 3,
   "id": "db347ac9-eade-4241-bee3-1b5fa4089e62",
   "metadata": {},
   "outputs": [],
   "source": [
    "sinabs_model = sinabs.from_nir(nir_model, batch_size=1).cuda()"
   ]
  },
  {
   "cell_type": "markdown",
   "id": "ffaaf5af-bb8c-40dd-986d-79f330017ab4",
   "metadata": {},
   "source": [
    "### Test the model in software\n",
    "\n",
    "Let's quickly run the test set through the sinabs model to make sure everything works as it should."
   ]
  },
  {
   "cell_type": "code",
   "execution_count": 4,
   "id": "951ab71d-45b1-4c56-99c1-bb46919f1809",
   "metadata": {},
   "outputs": [
    {
     "data": {
      "application/vnd.jupyter.widget-view+json": {
       "model_id": "56c23b0c165a4825bb0605ff2acd992e",
       "version_major": 2,
       "version_minor": 0
      },
      "text/plain": [
       "  0%|          | 0/50 [00:00<?, ?it/s]"
      ]
     },
     "metadata": {},
     "output_type": "display_data"
    },
    {
     "name": "stdout",
     "output_type": "stream",
     "text": [
      "Test accuracy with sinabs model: 96.00%\n"
     ]
    }
   ],
   "source": [
    "# Convert events to frames for software simulation\n",
    "to_frame = tonic.transforms.ToFrame(\n",
    "    sensor_size=tonic.datasets.NMNIST.sensor_size, time_window=1e3\n",
    ")\n",
    "frame_dataset = tonic.datasets.NMNIST(\".\", train=False, transform=to_frame)\n",
    "# Only use every 200th sample\n",
    "indices = torch.arange(50) * 200\n",
    "subset = torch.utils.data.Subset(frame_dataset, indices)\n",
    "\n",
    "correct = 0\n",
    "for sample, target in tqdm(subset, total=len(subset)):\n",
    "    # sample = sample.flatten(0,1)\n",
    "    output = sinabs_model(torch.from_numpy(sample).to(\"cuda\", dtype=torch.float))\n",
    "    # output = output.reshape((32, -1, *output.shape[1:]))\n",
    "    prediction = torch.argmax(output.sum(0)).cpu()\n",
    "    correct += prediction == target\n",
    "\n",
    "accuracy = correct / len(subset)\n",
    "print(f\"Test accuracy with sinabs model: {accuracy:.2%}\")"
   ]
  },
  {
   "cell_type": "markdown",
   "id": "74bb4980-b736-4af3-9e7b-a9282b18a18f",
   "metadata": {},
   "source": [
    "## Deploy the model onto Speck\n",
    "\n",
    "Deploying a model onto Speck with Sinabs is also straightforward. Of course you need to have a Speck device connected to your PC.\n",
    "\n",
    "### Prepare model and deploy"
   ]
  },
  {
   "cell_type": "code",
   "execution_count": 5,
   "id": "242fd7cf-6a84-4edf-8759-05045fbac129",
   "metadata": {},
   "outputs": [
    {
     "name": "stdout",
     "output_type": "stream",
     "text": [
      "Network is valid\n"
     ]
    }
   ],
   "source": [
    "# - Prepare model\n",
    "# Convert model to sequential\n",
    "sequential_model = torch.nn.Sequential(\n",
    "    *(node.elem for node in sinabs_model.execution_order)\n",
    ").cpu()\n",
    "\n",
    "# Speck does not support individual parameters per neuron.\n",
    "# Set threshold to a single value per spiking layer\n",
    "for mod in sequential_model:\n",
    "    if isinstance(mod, sinabs.layers.IAF):\n",
    "        # Choose threshold to be the same for all neurons\n",
    "        mod.spike_threshold = torch.nn.Parameter(\n",
    "            torch.tensor([mod.spike_threshold.flatten()[0]])\n",
    "        )\n",
    "        mod.min_v_mem = torch.nn.Parameter(torch.tensor([mod.min_v_mem.flatten()[0]]))\n",
    "\n",
    "# - Actual deployment\n",
    "device = \"speck2fmodule\"\n",
    "speck_model = DynapcnnNetwork(sequential_model, input_shape=(2, 34, 34))\n",
    "speck_model.to(device, monitor_layers=[-1]);"
   ]
  },
  {
   "cell_type": "markdown",
   "id": "754a7b0a-fc96-4b73-a574-c4ace9a9f57d",
   "metadata": {},
   "source": [
    "### Prepare dataset\n",
    "For the software simulation in sinabs we converted the input data to frames. For Speck, we can send the events directly as they are."
   ]
  },
  {
   "cell_type": "code",
   "execution_count": 6,
   "id": "3ec22e1c-3b33-44de-91bb-ba4ace586f49",
   "metadata": {},
   "outputs": [],
   "source": [
    "# This time don't convert data to frames\n",
    "event_dataset = tonic.datasets.NMNIST(\"./data\", train=False)\n",
    "event_subset = torch.utils.data.Subset(event_dataset, indices)\n",
    "\n",
    "# The chip factory will help us convert the structured array data to events for Speck\n",
    "chip_factory = ChipFactory(\"speck2fmodule\")\n",
    "layer_in = speck_model.chip_layers_ordering[0]"
   ]
  },
  {
   "cell_type": "markdown",
   "id": "fef5f7fd-5f2c-48e6-8ac9-cfa42d779abc",
   "metadata": {},
   "source": [
    "### Some helper functions"
   ]
  },
  {
   "cell_type": "code",
   "execution_count": 7,
   "id": "88ab88e0-7956-49ce-8373-48bfd5eb3306",
   "metadata": {},
   "outputs": [],
   "source": [
    "# This will help us choose samples of a given target\n",
    "targets = np.array(event_dataset.targets)\n",
    "target_indices = {idx: np.where(targets == idx)[0] for idx in range(10)}\n",
    "\n",
    "\n",
    "def plot_hist(output, target):\n",
    "    # Extract features from output events and take most prevalent as prediction\n",
    "    features = [event.feature for event in output]\n",
    "    prediction = mode(features)\n",
    "\n",
    "    # Draw histogram\n",
    "    fig, ax = plt.subplots()\n",
    "    bins = np.arange(11) - 0.5\n",
    "    N, bins, patches = ax.hist(features, bins=bins, edgecolor=\"white\", linewidth=1)\n",
    "    plt.title(\n",
    "        f\"Prediction: {prediction} ({f'target: {target}' if target!=prediction else 'correct'})\"\n",
    "    )\n",
    "    plt.ylabel(\"Event count\")\n",
    "    plt.xlabel(\"Feature\")\n",
    "    plt.xticks(np.arange(10))\n",
    "\n",
    "    # Set bar colors according to prediction and target\n",
    "    for i, patch in enumerate(patches):\n",
    "        if i == prediction and i == target:\n",
    "            patch.set_facecolor(\"g\")\n",
    "        elif i == prediction:\n",
    "            patch.set_facecolor(\"r\")\n",
    "        elif i == target:\n",
    "            patch.set_facecolor(\"k\")\n",
    "\n",
    "    # Make xtick label of prediciton bold\n",
    "    ax.xaxis.get_major_ticks()[prediction].label1.set_fontweight(\"bold\")\n",
    "\n",
    "    return prediction\n",
    "\n",
    "\n",
    "def test_sample(target):\n",
    "    index = np.random.choice(target_indices[target])\n",
    "    sample, tgt = event_dataset[index]\n",
    "    assert target == tgt\n",
    "    image = to_frame(sample).sum((0, 1))\n",
    "    plt.imshow(image)\n",
    "    plt.title(\"Input\")\n",
    "\n",
    "    # Convert data to speck events and send it to the chip\n",
    "    input_events = chip_factory.xytp_to_events(\n",
    "        sample, layer=layer_in, reset_timestamps=True\n",
    "    )\n",
    "    output = speck_model(input_events)\n",
    "\n",
    "    prediction = plot_hist(output, target)\n",
    "    print(f\"Speck prediction: {prediction}\")"
   ]
  },
  {
   "cell_type": "markdown",
   "id": "ffbb3d4c-ad93-4a93-95f5-5e98d9c86e1c",
   "metadata": {},
   "source": [
    "## Send test data to the chip and read out its prediction\n",
    "To get some quantitative idea about how well the on-chip model does, we can use the test data from above and run it through the chip."
   ]
  },
  {
   "cell_type": "code",
   "execution_count": 8,
   "id": "68a39e69-9f37-4fef-8204-a1560287fe5e",
   "metadata": {},
   "outputs": [
    {
     "data": {
      "application/vnd.jupyter.widget-view+json": {
       "model_id": "c1303037a92e4eb08d67116593568ba0",
       "version_major": 2,
       "version_minor": 0
      },
      "text/plain": [
       "  0%|          | 0/50 [00:00<?, ?it/s]"
      ]
     },
     "metadata": {},
     "output_type": "display_data"
    },
    {
     "name": "stdout",
     "output_type": "stream",
     "text": [
      "Test accuracy on speck: 90.00%\n"
     ]
    }
   ],
   "source": [
    "correct = 0\n",
    "predictions = []\n",
    "for sample, target in tqdm(event_subset, total=len(event_subset)):\n",
    "    input_events = chip_factory.xytp_to_events(\n",
    "        sample, layer=layer_in, reset_timestamps=True\n",
    "    )\n",
    "    output = speck_model(input_events)\n",
    "    prediction = mode((event.feature for event in output)) if output else -1\n",
    "    correct += prediction == target\n",
    "    predictions.append(prediction)\n",
    "\n",
    "accuracy = correct / len(subset)\n",
    "print(f\"Test accuracy on speck: {accuracy:.2%}\")"
   ]
  },
  {
   "cell_type": "markdown",
   "id": "6a2a9e39-cc57-43c1-a163-aa66f25e7d90",
   "metadata": {},
   "source": [
    "## Live demo\n",
    "\n",
    "Now that the model has been deployed onto Speck and the data has been prepared, let's see if it works."
   ]
  },
  {
   "cell_type": "code",
   "execution_count": 9,
   "id": "5ed89218-c4f6-499e-a13f-c175d0e9848b",
   "metadata": {},
   "outputs": [
    {
     "name": "stdout",
     "output_type": "stream",
     "text": [
      "Speck prediction: 4\n"
     ]
    },
    {
     "data": {
      "image/png": "[encoded data removed]",
      "text/plain": [
       "<Figure size 720x432 with 1 Axes>"
      ]
     },
     "metadata": {
      "needs_background": "light"
     },
     "output_type": "display_data"
    },
    {
     "data": {
      "image/png": "[encoded data removed]",
      "text/plain": [
       "<Figure size 720x432 with 1 Axes>"
      ]
     },
     "metadata": {
      "needs_background": "light"
     },
     "output_type": "display_data"
    }
   ],
   "source": [
    "test_sample(4)"
   ]
  }
 ],
 "metadata": {
  "kernelspec": {
   "display_name": "Python 3 (ipykernel)",
   "language": "python",
   "name": "python3"
  },
  "language_info": {
   "codemirror_mode": {
    "name": "ipython",
    "version": 3
   },
   "file_extension": ".py",
   "mimetype": "text/x-python",
   "name": "python",
   "nbconvert_exporter": "python",
   "pygments_lexer": "ipython3",
   "version": "3.8.10"
  }
 },
 "nbformat": 4,
 "nbformat_minor": 5
}
